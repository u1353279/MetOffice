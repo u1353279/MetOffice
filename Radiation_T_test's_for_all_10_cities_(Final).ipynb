{
  "nbformat": 4,
  "nbformat_minor": 0,
  "metadata": {
    "colab": {
      "name": "Radiation T-test's for all 10 cities (Final).ipynb",
      "provenance": [],
      "collapsed_sections": [],
      "mount_file_id": "1bsZ6mTwdoYrZ5jDUCwQiqYDznCnfVUnh",
      "authorship_tag": "ABX9TyOpWxPpqG51kTJnCCDdfn5g",
      "include_colab_link": true
    },
    "kernelspec": {
      "name": "python3",
      "display_name": "Python 3"
    }
  },
  "cells": [
    {
      "cell_type": "markdown",
      "metadata": {
        "id": "view-in-github",
        "colab_type": "text"
      },
      "source": [
        "<a href=\"https://colab.research.google.com/github/u1353279/MetOffice/blob/main/Radiation_T_test's_for_all_10_cities_(Final).ipynb\" target=\"_parent\"><img src=\"https://colab.research.google.com/assets/colab-badge.svg\" alt=\"Open In Colab\"/></a>"
      ]
    },
    {
      "cell_type": "markdown",
      "metadata": {
        "id": "Dj5z1AXwuzHL"
      },
      "source": [
        "***Statistical Testing for 10 cities***\n",
        "\n",
        "\n",
        "\n",
        "T-test"
      ]
    },
    {
      "cell_type": "markdown",
      "metadata": {
        "id": "hexK1K8-wau-"
      },
      "source": [
        "Import Libraries"
      ]
    },
    {
      "cell_type": "code",
      "metadata": {
        "colab": {
          "base_uri": "https://localhost:8080/"
        },
        "id": "vNvmvy5immd6",
        "outputId": "039b3f87-b71c-48d6-f741-36995e3d9538"
      },
      "source": [
        "import pandas as pd\n",
        "import numpy as np\n",
        "\n",
        "# stats\n",
        "from statsmodels.tsa.seasonal import seasonal_decompose\n",
        "from statsmodels.graphics.tsaplots import plot_acf, plot_pacf\n",
        "\n",
        "# plotting\n",
        "import seaborn as sns \n",
        "import plotly.express as px\n",
        "import matplotlib.pyplot as plt\n",
        "\n",
        "# settings\n",
        "plt.style.use('seaborn')\n",
        "plt.rcParams[\"figure.figsize\"] = (16, 8)"
      ],
      "execution_count": 1,
      "outputs": [
        {
          "output_type": "stream",
          "text": [
            "/usr/local/lib/python3.6/dist-packages/statsmodels/tools/_testing.py:19: FutureWarning: pandas.util.testing is deprecated. Use the functions in the public API at pandas.testing instead.\n",
            "  import pandas.util.testing as tm\n"
          ],
          "name": "stderr"
        }
      ]
    },
    {
      "cell_type": "code",
      "metadata": {
        "id": "-mSvcMzmnMCc"
      },
      "source": [
        "import warnings\n",
        "from pylab import rcParams\n",
        "from scipy.stats import f_oneway\n",
        "from scipy.stats import ttest_ind"
      ],
      "execution_count": 2,
      "outputs": []
    },
    {
      "cell_type": "code",
      "metadata": {
        "id": "ozvHLpMPnYpR"
      },
      "source": [
        "%matplotlib inline\n",
        "warnings.filterwarnings(\"ignore\")\n",
        "rcParams['figure.figsize'] = 20,10\n",
        "rcParams['font.size'] = 30\n",
        "sns.set()\n",
        "np.random.seed(8)"
      ],
      "execution_count": 10,
      "outputs": []
    },
    {
      "cell_type": "code",
      "metadata": {
        "id": "XhcD-Kbzna0R"
      },
      "source": [
        "def plot_distribution(inp):\n",
        "    plt.figure()\n",
        "    ax = sns.distplot(inp)\n",
        "    plt.axvline(np.mean(inp), color=\"k\", linestyle=\"dashed\", linewidth=5)\n",
        "    _, max_ = plt.ylim()\n",
        "    plt.text(\n",
        "        inp.mean() + inp.mean() / 10,\n",
        "        max_ - max_ / 10,\n",
        "        \"Mean: {:.2f}\".format(inp.mean()),\n",
        "    )\n",
        "    return plt.figure"
      ],
      "execution_count": 11,
      "outputs": []
    },
    {
      "cell_type": "code",
      "metadata": {
        "id": "J3m2ld5QR3jO"
      },
      "source": [
        "def compare_2_groups(arr_1, arr_2, alpha, sample_size):\r\n",
        "    stat, p = ttest_ind(arr_1, arr_2)\r\n",
        "    print('Statistics=%.3f, p=%.3f' % (stat, p))\r\n",
        "    if p > alpha:\r\n",
        "        print('Same distributions (fail to reject H0)')\r\n",
        "    else:\r\n",
        "        print('Different distributions (reject H0)')"
      ],
      "execution_count": 28,
      "outputs": []
    },
    {
      "cell_type": "markdown",
      "metadata": {
        "id": "OtF64Mz4weAt"
      },
      "source": [
        "Little Rissington"
      ]
    },
    {
      "cell_type": "code",
      "metadata": {
        "id": "8VpFStWsm7he"
      },
      "source": [
        "Little_Rissington=pd.read_excel('/content/drive/MyDrive/PHD/little_rissington.xlsx')\r\n",
        "\r\n",
        "Little_Rissington['Date'] = pd.to_datetime(Little_Rissington['Date'], format='%d/%m/%Y')\r\n",
        "\r\n",
        "Little_Rissington.rename(columns={'Daily Maximum Temperature (0900-0900) (°C)': 'Max Temp',\r\n",
        "                   'Daily Minimum Temperature (0900-0900) (°C)': 'Min Temp',\r\n",
        "                  'Daily Mean Temperature (0900-0900) (°C)': 'Mean Temp',\r\n",
        "          'Daily Total Rainfall (0900-0900)(mm)': 'Rainfall(mm)',\r\n",
        "          'Daily Mean Windspeed (0100-2400) (kn)': 'Windspeed(kn)',\r\n",
        "          'Daily Maximum Gust (0100-2400) (kn)': 'Max Gust(kn)',\r\n",
        "          'Daily Total Global Radiation (KJ/m2)': 'Radiation(KJ/m2)'},\r\n",
        "          inplace=True)\r\n",
        "\r\n",
        "#propogate the last valid observation forward\r\n",
        "Little_Rissington.ffill(inplace=True)\r\n",
        "\r\n",
        "Radiation_Little_Rissington = Little_Rissington['Radiation(KJ/m2)']"
      ],
      "execution_count": 40,
      "outputs": []
    },
    {
      "cell_type": "code",
      "metadata": {
        "id": "dwK7r4O6neP5"
      },
      "source": [
        "Radiation_Little_Rissington = little_rissington['Radiation(KJ/m2)']"
      ],
      "execution_count": 12,
      "outputs": []
    },
    {
      "cell_type": "markdown",
      "metadata": {
        "id": "A0DNQdDf4ewd"
      },
      "source": [
        "Monks Wood"
      ]
    },
    {
      "cell_type": "code",
      "metadata": {
        "id": "LbStwV6hXwbW"
      },
      "source": [
        "Monks_Wood=pd.read_excel('/content/drive/MyDrive/PHD/Monks Wood.xlsx')\r\n",
        "\r\n",
        "Monks_Wood['Date'] = pd.to_datetime(Monks_Wood['Date'], format='%d/%m/%Y')\r\n",
        "\r\n",
        "Monks_Wood.rename(columns={'Daily Maximum Temperature (0900-0900) (°C)': 'Max Temp',\r\n",
        "                   'Daily Minimum Temperature (0900-0900) (°C)': 'Min Temp',\r\n",
        "                  'Daily Mean Temperature (0900-0900) (°C)': 'Mean Temp',\r\n",
        "          'Daily Total Rainfall (0900-0900)(mm)': 'Rainfall(mm)',\r\n",
        "          'Daily Mean Windspeed (0100-2400) (kn)': 'Windspeed(kn)',\r\n",
        "          'Daily Maximum Gust (0100-2400) (kn)': 'Max Gust(kn)',\r\n",
        "          'Daily Total Global Radiation (KJ/m2)': 'Radiation(KJ/m2)'},\r\n",
        "          inplace=True)\r\n",
        "\r\n",
        "#propogate the last valid observation forward\r\n",
        "Monks_Wood.ffill(inplace=True)\r\n",
        "\r\n",
        "Radiation_Monks_Wood = Monks_Wood['Radiation(KJ/m2)']"
      ],
      "execution_count": 39,
      "outputs": []
    },
    {
      "cell_type": "markdown",
      "metadata": {
        "id": "-clkYmi_Q6cO"
      },
      "source": [
        "Bedford"
      ]
    },
    {
      "cell_type": "code",
      "metadata": {
        "id": "fdoubUTVXUuX"
      },
      "source": [
        "Bedford=pd.read_excel('/content/drive/MyDrive/PHD/bedford.xlsx')\r\n",
        "\r\n",
        "Bedford['Date'] = pd.to_datetime(Bedford['Date'], format='%d/%m/%Y')\r\n",
        "\r\n",
        "Bedford.rename(columns={'Daily Maximum Temperature (0900-0900) (°C)': 'Max Temp',\r\n",
        "                   'Daily Minimum Temperature (0900-0900) (°C)': 'Min Temp',\r\n",
        "                  'Daily Mean Temperature (0900-0900) (°C)': 'Mean Temp',\r\n",
        "          'Daily Total Rainfall (0900-0900)(mm)': 'Rainfall(mm)',\r\n",
        "          'Daily Mean Windspeed (0100-2400) (kn)': 'Windspeed(kn)',\r\n",
        "          'Daily Maximum Gust (0100-2400) (kn)': 'Max Gust(kn)',\r\n",
        "          'Daily Total Global Radiation (KJ/m2)': 'Radiation(KJ/m2)'},\r\n",
        "          inplace=True)\r\n",
        "\r\n",
        "#propogate the last valid observation forward\r\n",
        "Bedford.ffill(inplace=True)\r\n",
        "\r\n",
        "Radiation_Bedford = Bedford['Radiation(KJ/m2)']"
      ],
      "execution_count": 37,
      "outputs": []
    },
    {
      "cell_type": "markdown",
      "metadata": {
        "id": "NbQuMBtkVc5m"
      },
      "source": [
        "Waddington"
      ]
    },
    {
      "cell_type": "code",
      "metadata": {
        "id": "RUB7Ry84VbjU"
      },
      "source": [
        "Waddington=pd.read_excel('/content/drive/MyDrive/PHD/Waddington.xlsx')\r\n",
        "\r\n",
        "Waddington['Date'] = pd.to_datetime(Waddington['Date'], format='%d/%m/%Y')\r\n",
        "\r\n",
        "Waddington.rename(columns={'Daily Maximum Temperature (0900-0900) (°C)': 'Max Temp',\r\n",
        "                   'Daily Minimum Temperature (0900-0900) (°C)': 'Min Temp',\r\n",
        "                  'Daily Mean Temperature (0900-0900) (°C)': 'Mean Temp',\r\n",
        "          'Daily Total Rainfall (0900-0900)(mm)': 'Rainfall(mm)',\r\n",
        "          'Daily Mean Windspeed (0100-2400) (kn)': 'Windspeed(kn)',\r\n",
        "          'Daily Maximum Gust (0100-2400) (kn)': 'Max Gust(kn)',\r\n",
        "          'Daily Total Global Radiation (KJ/m2)': 'Radiation(KJ/m2)'},\r\n",
        "          inplace=True)\r\n",
        "\r\n",
        "#propogate the last valid observation forward\r\n",
        "Waddington.ffill(inplace=True)\r\n",
        "\r\n",
        "Radiation_Waddington = Waddington['Radiation(KJ/m2)']"
      ],
      "execution_count": 35,
      "outputs": []
    },
    {
      "cell_type": "markdown",
      "metadata": {
        "id": "IjBB7T2TZ8Yb"
      },
      "source": [
        "Wittering"
      ]
    },
    {
      "cell_type": "code",
      "metadata": {
        "id": "o8IgAoObZ-Mj"
      },
      "source": [
        "Wittering=pd.read_excel('/content/drive/MyDrive/PHD/Wittering.xlsx')\r\n",
        "\r\n",
        "Wittering['Date'] = pd.to_datetime(Wittering['Date'], format='%d/%m/%Y')\r\n",
        "\r\n",
        "Wittering.rename(columns={'Daily Maximum Temperature (0900-0900) (°C)': 'Max Temp',\r\n",
        "                   'Daily Minimum Temperature (0900-0900) (°C)': 'Min Temp',\r\n",
        "                  'Daily Mean Temperature (0900-0900) (°C)': 'Mean Temp',\r\n",
        "          'Daily Total Rainfall (0900-0900)(mm)': 'Rainfall(mm)',\r\n",
        "          'Daily Mean Windspeed (0100-2400) (kn)': 'Windspeed(kn)',\r\n",
        "          'Daily Maximum Gust (0100-2400) (kn)': 'Max Gust(kn)',\r\n",
        "          'Daily Total Global Radiation (KJ/m2)': 'Radiation(KJ/m2)'},\r\n",
        "          inplace=True)\r\n",
        "\r\n",
        "#propogate the last valid observation forward\r\n",
        "Wittering.ffill(inplace=True)\r\n",
        "\r\n",
        "Radiation_Wittering = Wittering['Radiation(KJ/m2)']"
      ],
      "execution_count": 41,
      "outputs": []
    },
    {
      "cell_type": "markdown",
      "metadata": {
        "id": "W6WKRJ4aaqMN"
      },
      "source": [
        "Nottingham"
      ]
    },
    {
      "cell_type": "code",
      "metadata": {
        "id": "3MYRECP4avkA"
      },
      "source": [
        "Nottingham=pd.read_excel('/content/drive/MyDrive/PHD/Nottingham.xlsx')\r\n",
        "\r\n",
        "Nottingham['Date'] = pd.to_datetime(Nottingham['Date'], format='%d/%m/%Y')\r\n",
        "\r\n",
        "Nottingham.rename(columns={'Daily Maximum Temperature (0900-0900) (°C)': 'Max Temp',\r\n",
        "                   'Daily Minimum Temperature (0900-0900) (°C)': 'Min Temp',\r\n",
        "                  'Daily Mean Temperature (0900-0900) (°C)': 'Mean Temp',\r\n",
        "          'Daily Total Rainfall (0900-0900)(mm)': 'Rainfall(mm)',\r\n",
        "          'Daily Mean Windspeed (0100-2400) (kn)': 'Windspeed(kn)',\r\n",
        "          'Daily Maximum Gust (0100-2400) (kn)': 'Max Gust(kn)',\r\n",
        "          'Daily Total Global Radiation (KJ/m2)': 'Radiation(KJ/m2)'},\r\n",
        "          inplace=True)\r\n",
        "\r\n",
        "#propogate the last valid observation forward\r\n",
        "Nottingham.ffill(inplace=True)\r\n",
        "\r\n",
        "Radiation_Nottingham = Nottingham['Radiation(KJ/m2)']"
      ],
      "execution_count": 43,
      "outputs": []
    },
    {
      "cell_type": "markdown",
      "metadata": {
        "id": "rY66MBEAdkB-"
      },
      "source": [
        "Sutton"
      ]
    },
    {
      "cell_type": "code",
      "metadata": {
        "id": "NcD7zMdodmUG"
      },
      "source": [
        "Sutton=pd.read_excel('/content/drive/MyDrive/PHD/Sutton.xlsx')\r\n",
        "\r\n",
        "Sutton['Date'] = pd.to_datetime(Sutton['Date'], format='%d/%m/%Y')\r\n",
        "\r\n",
        "Sutton.rename(columns={'Daily Maximum Temperature (0900-0900) (°C)': 'Max Temp',\r\n",
        "                   'Daily Minimum Temperature (0900-0900) (°C)': 'Min Temp',\r\n",
        "                  'Daily Mean Temperature (0900-0900) (°C)': 'Mean Temp',\r\n",
        "          'Daily Total Rainfall (0900-0900)(mm)': 'Rainfall(mm)',\r\n",
        "          'Daily Mean Windspeed (0100-2400) (kn)': 'Windspeed(kn)',\r\n",
        "          'Daily Maximum Gust (0100-2400) (kn)': 'Max Gust(kn)',\r\n",
        "          'Daily Total Global Radiation (KJ/m2)': 'Radiation(KJ/m2)'},\r\n",
        "          inplace=True)\r\n",
        "\r\n",
        "#propogate the last valid observation forward\r\n",
        "Sutton.ffill(inplace=True)\r\n",
        "\r\n",
        "Radiation_Sutton = Sutton['Radiation(KJ/m2)']"
      ],
      "execution_count": 45,
      "outputs": []
    },
    {
      "cell_type": "markdown",
      "metadata": {
        "id": "WVseMAD_e4Ja"
      },
      "source": [
        "Church Lawford"
      ]
    },
    {
      "cell_type": "code",
      "metadata": {
        "id": "JOV7Bm1Be7hk"
      },
      "source": [
        "Church_lawford=pd.read_excel('/content/drive/MyDrive/PHD/Church Lawford.xlsx')\r\n",
        "\r\n",
        "Church_lawford['Date'] = pd.to_datetime(Church_lawford['Date'], format='%d/%m/%Y')\r\n",
        "\r\n",
        "Church_lawford.rename(columns={'Daily Maximum Temperature (0900-0900) (°C)': 'Max Temp',\r\n",
        "                   'Daily Minimum Temperature (0900-0900) (°C)': 'Min Temp',\r\n",
        "                  'Daily Mean Temperature (0900-0900) (°C)': 'Mean Temp',\r\n",
        "          'Daily Total Rainfall (0900-0900)(mm)': 'Rainfall(mm)',\r\n",
        "          'Daily Mean Windspeed (0100-2400) (kn)': 'Windspeed(kn)',\r\n",
        "          'Daily Maximum Gust (0100-2400) (kn)': 'Max Gust(kn)',\r\n",
        "          'Daily Total Global Radiation (KJ/m2)': 'Radiation(KJ/m2)'},\r\n",
        "          inplace=True)\r\n",
        "\r\n",
        "#propogate the last valid observation forward\r\n",
        "Church_lawford.ffill(inplace=True)\r\n",
        "\r\n",
        "Radiation_Church_lawford = Church_lawford['Radiation(KJ/m2)']"
      ],
      "execution_count": 47,
      "outputs": []
    },
    {
      "cell_type": "markdown",
      "metadata": {
        "id": "D_WDXuiwgltk"
      },
      "source": [
        "Coventry"
      ]
    },
    {
      "cell_type": "code",
      "metadata": {
        "id": "wAV-WoTxgoQe"
      },
      "source": [
        "Coventry=pd.read_excel('/content/drive/MyDrive/PHD/Coventry.xlsx')\r\n",
        "\r\n",
        "Coventry['Date'] = pd.to_datetime(Coventry['Date'], format='%d/%m/%Y')\r\n",
        "\r\n",
        "Coventry.rename(columns={'Daily Maximum Temperature (0900-0900) (°C)': 'Max Temp',\r\n",
        "                   'Daily Minimum Temperature (0900-0900) (°C)': 'Min Temp',\r\n",
        "                  'Daily Mean Temperature (0900-0900) (°C)': 'Mean Temp',\r\n",
        "          'Daily Total Rainfall (0900-0900)(mm)': 'Rainfall(mm)',\r\n",
        "          'Daily Mean Windspeed (0100-2400) (kn)': 'Windspeed(kn)',\r\n",
        "          'Daily Maximum Gust (0100-2400) (kn)': 'Max Gust(kn)',\r\n",
        "          'Daily Total Global Radiation (KJ/m2)': 'Radiation(KJ/m2)'},\r\n",
        "          inplace=True)\r\n",
        "\r\n",
        "#propogate the last valid observation forward\r\n",
        "Coventry.ffill(inplace=True)\r\n",
        "\r\n",
        "Radiation_Coventry = Coventry['Radiation(KJ/m2)']"
      ],
      "execution_count": 49,
      "outputs": []
    },
    {
      "cell_type": "markdown",
      "metadata": {
        "id": "fJKRLAZXhWhy"
      },
      "source": [
        "Coleshill"
      ]
    },
    {
      "cell_type": "code",
      "metadata": {
        "id": "kocUxeF_hZRc"
      },
      "source": [
        "Coleshill=pd.read_excel('/content/drive/MyDrive/PHD/Coleshill.xlsx')\r\n",
        "\r\n",
        "Coleshill['Date'] = pd.to_datetime(Coleshill['Date'], format='%d/%m/%Y')\r\n",
        "\r\n",
        "Coleshill.rename(columns={'Daily Maximum Temperature (0900-0900) (°C)': 'Max Temp',\r\n",
        "                   'Daily Minimum Temperature (0900-0900) (°C)': 'Min Temp',\r\n",
        "                  'Daily Mean Temperature (0900-0900) (°C)': 'Mean Temp',\r\n",
        "          'Daily Total Rainfall (0900-0900)(mm)': 'Rainfall(mm)',\r\n",
        "          'Daily Mean Windspeed (0100-2400) (kn)': 'Windspeed(kn)',\r\n",
        "          'Daily Maximum Gust (0100-2400) (kn)': 'Max Gust(kn)',\r\n",
        "          'Daily Total Global Radiation (KJ/m2)': 'Radiation(KJ/m2)'},\r\n",
        "          inplace=True)\r\n",
        "\r\n",
        "#propogate the last valid observation forward\r\n",
        "Coleshill.ffill(inplace=True)\r\n",
        "\r\n",
        "Radiation_Coleshill = Coleshill['Radiation(KJ/m2)']"
      ],
      "execution_count": 52,
      "outputs": []
    },
    {
      "cell_type": "markdown",
      "metadata": {
        "id": "PK90jnA_TPLw"
      },
      "source": [
        "Little Rissington vs Monks Wood (72.71 Miles, East)"
      ]
    },
    {
      "cell_type": "code",
      "metadata": {
        "colab": {
          "base_uri": "https://localhost:8080/"
        },
        "id": "yLjHW4TESJRT",
        "outputId": "c8d05315-a189-4814-eb62-fbdc9fd4b916"
      },
      "source": [
        "sample_size = 2000\r\n",
        "Little_Rissington_sampled = np.random.choice(Radiation_Little_Rissington, sample_size)\r\n",
        "Monks_Wood_sampled = np.random.choice(Radiation_Monks_Wood, sample_size)\r\n",
        "compare_2_groups(Little_Rissington_sampled, Monks_Wood_sampled, 0.05, sample_size)"
      ],
      "execution_count": 30,
      "outputs": [
        {
          "output_type": "stream",
          "text": [
            "Statistics=1.113, p=0.266\n",
            "Same distributions (fail to reject H0)\n"
          ],
          "name": "stdout"
        }
      ]
    },
    {
      "cell_type": "markdown",
      "metadata": {
        "id": "4k-TWGY_TZAH"
      },
      "source": [
        "Little Rissington vs Bedford (56.28 Miles, East)"
      ]
    },
    {
      "cell_type": "code",
      "metadata": {
        "colab": {
          "base_uri": "https://localhost:8080/"
        },
        "id": "2BosgbUWSpVj",
        "outputId": "e3d27e2f-9e48-437a-f6d4-fc833ebc83ca"
      },
      "source": [
        "sample_size = 2000\r\n",
        "Little_Rissington_sampled = np.random.choice(Radiation_Little_Rissington, sample_size)\r\n",
        "Bedford_sampled = np.random.choice(Radiation_Bedford, sample_size)\r\n",
        "compare_2_groups(Little_Rissington_sampled, Bedford_sampled, 0.05, sample_size)"
      ],
      "execution_count": 38,
      "outputs": [
        {
          "output_type": "stream",
          "text": [
            "Statistics=-1.586, p=0.113\n",
            "Same distributions (fail to reject H0)\n"
          ],
          "name": "stdout"
        }
      ]
    },
    {
      "cell_type": "markdown",
      "metadata": {
        "id": "XnPsvHvLW0t-"
      },
      "source": [
        "Little Rissigton vs Waddington (102.04 Miles, North-East)"
      ]
    },
    {
      "cell_type": "code",
      "metadata": {
        "colab": {
          "base_uri": "https://localhost:8080/"
        },
        "id": "D1lMhux6Tnsh",
        "outputId": "282d1b38-9c18-46d2-9a15-d5874d7873ed"
      },
      "source": [
        "sample_size = 2000\r\n",
        "Little_Rissington_sampled = np.random.choice(Radiation_Little_Rissington, sample_size)\r\n",
        "Waddington_sampled = np.random.choice(Radiation_Waddington, sample_size)\r\n",
        "compare_2_groups(Little_Rissington_sampled, Waddington_sampled, 0.05, sample_size)"
      ],
      "execution_count": 36,
      "outputs": [
        {
          "output_type": "stream",
          "text": [
            "Statistics=-0.094, p=0.925\n",
            "Same distributions (fail to reject H0)\n"
          ],
          "name": "stdout"
        }
      ]
    },
    {
      "cell_type": "markdown",
      "metadata": {
        "id": "8qH5UiUVaVaa"
      },
      "source": [
        "Little Rissigton vs Wittering (74.31 Miles, East)"
      ]
    },
    {
      "cell_type": "code",
      "metadata": {
        "colab": {
          "base_uri": "https://localhost:8080/"
        },
        "id": "6xkL5PfoXCc-",
        "outputId": "0cde5b68-56e2-4674-f4fe-b2848eba97a5"
      },
      "source": [
        "sample_size = 2000\r\n",
        "Little_Rissington_sampled = np.random.choice(Radiation_Little_Rissington, sample_size)\r\n",
        "Wittering_sampled = np.random.choice(Radiation_Wittering, sample_size)\r\n",
        "compare_2_groups(Little_Rissington_sampled, Wittering_sampled, 0.05, sample_size)"
      ],
      "execution_count": 42,
      "outputs": [
        {
          "output_type": "stream",
          "text": [
            "Statistics=0.146, p=0.884\n",
            "Same distributions (fail to reject H0)\n"
          ],
          "name": "stdout"
        }
      ]
    },
    {
      "cell_type": "markdown",
      "metadata": {
        "id": "2YDu-9dKbYT2"
      },
      "source": [
        "Little Rissington vs Nottingham (78.40 Miles, North)"
      ]
    },
    {
      "cell_type": "code",
      "metadata": {
        "colab": {
          "base_uri": "https://localhost:8080/"
        },
        "id": "8cAfgAdNagkO",
        "outputId": "6621d9ce-b1df-4bbd-c982-2407b69f5cb0"
      },
      "source": [
        "sample_size = 2000\r\n",
        "Little_Rissington_sampled = np.random.choice(Radiation_Little_Rissington, sample_size)\r\n",
        "Nottingham_sampled = np.random.choice(Radiation_Nottingham, sample_size)\r\n",
        "compare_2_groups(Little_Rissington_sampled, Nottingham_sampled, 0.05, sample_size)"
      ],
      "execution_count": 44,
      "outputs": [
        {
          "output_type": "stream",
          "text": [
            "Statistics=1.421, p=0.155\n",
            "Same distributions (fail to reject H0)\n"
          ],
          "name": "stdout"
        }
      ]
    },
    {
      "cell_type": "markdown",
      "metadata": {
        "id": "M2Ye-kbjd7HN"
      },
      "source": [
        "Little Rissington vs Sutton (74.68 Miles, North)"
      ]
    },
    {
      "cell_type": "code",
      "metadata": {
        "colab": {
          "base_uri": "https://localhost:8080/"
        },
        "id": "kALD7B_vbk9Q",
        "outputId": "821a41d6-a501-46d7-b3f6-9414df0a0132"
      },
      "source": [
        "sample_size = 2000\r\n",
        "Little_Rissington_sampled = np.random.choice(Radiation_Little_Rissington, sample_size)\r\n",
        "Sutton_sampled = np.random.choice(Radiation_Sutton, sample_size)\r\n",
        "compare_2_groups(Little_Rissington_sampled, Sutton_sampled, 0.05, sample_size)"
      ],
      "execution_count": 46,
      "outputs": [
        {
          "output_type": "stream",
          "text": [
            "Statistics=1.711, p=0.087\n",
            "Same distributions (fail to reject H0)\n"
          ],
          "name": "stdout"
        }
      ]
    },
    {
      "cell_type": "markdown",
      "metadata": {
        "id": "xs0H4iyAfgrh"
      },
      "source": [
        "Little Rissington vs Church_lawford (38.58 Miles, North)"
      ]
    },
    {
      "cell_type": "code",
      "metadata": {
        "colab": {
          "base_uri": "https://localhost:8080/"
        },
        "id": "0FRxPSXMeEmd",
        "outputId": "1445c451-ec9f-4635-8158-f639a577cb14"
      },
      "source": [
        "sample_size = 2000\r\n",
        "Little_Rissington_sampled = np.random.choice(Radiation_Little_Rissington, sample_size)\r\n",
        "Church_lawford_sampled = np.random.choice(Radiation_Church_lawford, sample_size)\r\n",
        "compare_2_groups(Little_Rissington_sampled, Church_lawford_sampled, 0.05, sample_size)"
      ],
      "execution_count": 48,
      "outputs": [
        {
          "output_type": "stream",
          "text": [
            "Statistics=1.851, p=0.064\n",
            "Same distributions (fail to reject H0)\n"
          ],
          "name": "stdout"
        }
      ]
    },
    {
      "cell_type": "markdown",
      "metadata": {
        "id": "YLESDls0g7YP"
      },
      "source": [
        "Little Rissington vs Coventry (37.77 Miles, North)"
      ]
    },
    {
      "cell_type": "code",
      "metadata": {
        "colab": {
          "base_uri": "https://localhost:8080/"
        },
        "id": "FSzC6_Dmftzp",
        "outputId": "c1d147c6-609f-45a0-873c-f090b5819630"
      },
      "source": [
        "sample_size = 2000\r\n",
        "Little_Rissington_sampled = np.random.choice(Radiation_Little_Rissington, sample_size)\r\n",
        "Coventry_sampled = np.random.choice(Radiation_Coventry, sample_size)\r\n",
        "compare_2_groups(Little_Rissington_sampled, Coventry_sampled, 0.05, sample_size)"
      ],
      "execution_count": 50,
      "outputs": [
        {
          "output_type": "stream",
          "text": [
            "Statistics=-0.037, p=0.971\n",
            "Same distributions (fail to reject H0)\n"
          ],
          "name": "stdout"
        }
      ]
    },
    {
      "cell_type": "markdown",
      "metadata": {
        "id": "ZbVTMgwXhrPj"
      },
      "source": [
        "Little Rissington vs Coleshill (42.24 Miles, North)"
      ]
    },
    {
      "cell_type": "code",
      "metadata": {
        "colab": {
          "base_uri": "https://localhost:8080/"
        },
        "id": "ag6OS25shENt",
        "outputId": "54c3eac3-0c3c-472a-d69d-308e41667164"
      },
      "source": [
        "sample_size = 2000\r\n",
        "Little_Rissington_sampled = np.random.choice(Radiation_Little_Rissington, sample_size)\r\n",
        "Coleshill_sampled = np.random.choice(Radiation_Coleshill, sample_size)\r\n",
        "compare_2_groups(Little_Rissington_sampled, Coleshill_sampled, 0.05, sample_size)"
      ],
      "execution_count": 53,
      "outputs": [
        {
          "output_type": "stream",
          "text": [
            "Statistics=0.567, p=0.571\n",
            "Same distributions (fail to reject H0)\n"
          ],
          "name": "stdout"
        }
      ]
    },
    {
      "cell_type": "code",
      "metadata": {
        "id": "vMKKbfpKhz5B"
      },
      "source": [
        ""
      ],
      "execution_count": null,
      "outputs": []
    }
  ]
}