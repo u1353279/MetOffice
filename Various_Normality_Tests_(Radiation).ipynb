{
  "nbformat": 4,
  "nbformat_minor": 0,
  "metadata": {
    "colab": {
      "name": "Various Normality Tests (Radiation).ipynb",
      "provenance": [],
      "collapsed_sections": [],
      "mount_file_id": "1bsZ6mTwdoYrZ5jDUCwQiqYDznCnfVUnh",
      "authorship_tag": "ABX9TyMYFnibMSkO0a0cZliHFeqK",
      "include_colab_link": true
    },
    "kernelspec": {
      "name": "python3",
      "display_name": "Python 3"
    }
  },
  "cells": [
    {
      "cell_type": "markdown",
      "metadata": {
        "id": "view-in-github",
        "colab_type": "text"
      },
      "source": [
        "<a href=\"https://colab.research.google.com/github/u1353279/MetOffice/blob/main/Various_Normality_Tests_(Radiation).ipynb\" target=\"_parent\"><img src=\"https://colab.research.google.com/assets/colab-badge.svg\" alt=\"Open In Colab\"/></a>"
      ]
    },
    {
      "cell_type": "markdown",
      "metadata": {
        "id": "Dj5z1AXwuzHL"
      },
      "source": [
        "***Statistical Testing for 10 cities***\n",
        "\n",
        "\n",
        "\n",
        "T-test"
      ]
    },
    {
      "cell_type": "markdown",
      "metadata": {
        "id": "hexK1K8-wau-"
      },
      "source": [
        "Import Libraries"
      ]
    },
    {
      "cell_type": "code",
      "metadata": {
        "colab": {
          "base_uri": "https://localhost:8080/"
        },
        "id": "vNvmvy5immd6",
        "outputId": "d7af20d5-3c2a-4312-bb96-995e712ee16b"
      },
      "source": [
        "import pandas as pd\n",
        "import numpy as np\n",
        "\n",
        "# stats\n",
        "from statsmodels.tsa.seasonal import seasonal_decompose\n",
        "from statsmodels.graphics.tsaplots import plot_acf, plot_pacf\n",
        "from scipy.stats import ks_2samp,kstest\n",
        "from scipy.stats import shapiro\n",
        "import pylab \n",
        "import scipy.stats as stats\n",
        "\n",
        "# plotting\n",
        "import seaborn as sns \n",
        "import plotly.express as px\n",
        "import matplotlib.pyplot as plt\n",
        "\n",
        "# settings\n",
        "plt.style.use('seaborn')\n",
        "plt.rcParams[\"figure.figsize\"] = (16, 8)"
      ],
      "execution_count": 1,
      "outputs": [
        {
          "output_type": "stream",
          "text": [
            "/usr/local/lib/python3.6/dist-packages/statsmodels/tools/_testing.py:19: FutureWarning: pandas.util.testing is deprecated. Use the functions in the public API at pandas.testing instead.\n",
            "  import pandas.util.testing as tm\n"
          ],
          "name": "stderr"
        }
      ]
    },
    {
      "cell_type": "code",
      "metadata": {
        "id": "-mSvcMzmnMCc"
      },
      "source": [
        "import warnings\n",
        "from pylab import rcParams\n",
        "from scipy.stats import f_oneway\n",
        "from scipy.stats import ttest_ind"
      ],
      "execution_count": 2,
      "outputs": []
    },
    {
      "cell_type": "code",
      "metadata": {
        "id": "ozvHLpMPnYpR"
      },
      "source": [
        "%matplotlib inline\n",
        "warnings.filterwarnings(\"ignore\")\n",
        "rcParams['figure.figsize'] = 20,10\n",
        "rcParams['font.size'] = 30\n",
        "sns.set()\n",
        "np.random.seed(8)"
      ],
      "execution_count": 3,
      "outputs": []
    },
    {
      "cell_type": "code",
      "metadata": {
        "id": "XhcD-Kbzna0R"
      },
      "source": [
        "def plot_distribution(inp):\n",
        "    plt.figure()\n",
        "    ax = sns.distplot(inp)\n",
        "    plt.axvline(np.mean(inp), color=\"k\", linestyle=\"dashed\", linewidth=5)\n",
        "    _, max_ = plt.ylim()\n",
        "    plt.text(\n",
        "        inp.mean() + inp.mean() / 10,\n",
        "        max_ - max_ / 10,\n",
        "        \"Mean: {:.2f}\".format(inp.mean()),\n",
        "    )\n",
        "    return plt.figure"
      ],
      "execution_count": 3,
      "outputs": []
    },
    {
      "cell_type": "code",
      "metadata": {
        "id": "J3m2ld5QR3jO"
      },
      "source": [
        "def compare_2_groups(arr_1, arr_2, alpha, sample_size):\r\n",
        "    stat, p = ttest_ind(arr_1, arr_2)\r\n",
        "    print('Statistics=%.3f, p=%.3f' % (stat, p))\r\n",
        "    if p > alpha:\r\n",
        "        print('Same distributions (fail to reject H0)')\r\n",
        "    else:\r\n",
        "        print('Different distributions (reject H0)')"
      ],
      "execution_count": 4,
      "outputs": []
    },
    {
      "cell_type": "markdown",
      "metadata": {
        "id": "OtF64Mz4weAt"
      },
      "source": [
        "Little Rissington"
      ]
    },
    {
      "cell_type": "code",
      "metadata": {
        "id": "8VpFStWsm7he"
      },
      "source": [
        "Little_Rissington=pd.read_excel('/content/drive/MyDrive/PHD/little_rissington.xlsx')\r\n",
        "\r\n",
        "Little_Rissington['Date'] = pd.to_datetime(Little_Rissington['Date'], format='%d/%m/%Y')\r\n",
        "\r\n",
        "Little_Rissington.rename(columns={'Daily Maximum Temperature (0900-0900) (°C)': 'Max Temp',\r\n",
        "                   'Daily Minimum Temperature (0900-0900) (°C)': 'Min Temp',\r\n",
        "                  'Daily Mean Temperature (0900-0900) (°C)': 'Mean Temp',\r\n",
        "          'Daily Total Rainfall (0900-0900)(mm)': 'Rainfall(mm)',\r\n",
        "          'Daily Mean Windspeed (0100-2400) (kn)': 'Windspeed(kn)',\r\n",
        "          'Daily Maximum Gust (0100-2400) (kn)': 'Max Gust(kn)',\r\n",
        "          'Daily Total Global Radiation (KJ/m2)': 'Radiation(KJ/m2)'},\r\n",
        "          inplace=True)\r\n",
        "\r\n",
        "#propogate the last valid observation forward\r\n",
        "Little_Rissington.ffill(inplace=True)\r\n",
        "\r\n",
        "Radiation_Little_Rissington = Little_Rissington['Radiation(KJ/m2)']"
      ],
      "execution_count": 5,
      "outputs": []
    },
    {
      "cell_type": "code",
      "metadata": {
        "id": "dwK7r4O6neP5"
      },
      "source": [
        "Radiation_Little_Rissington = Little_Rissington['Radiation(KJ/m2)']"
      ],
      "execution_count": 6,
      "outputs": []
    },
    {
      "cell_type": "markdown",
      "metadata": {
        "id": "W2FVOT1LHl0g"
      },
      "source": [
        "Hist plot"
      ]
    },
    {
      "cell_type": "code",
      "metadata": {
        "colab": {
          "base_uri": "https://localhost:8080/",
          "height": 282
        },
        "id": "b8w4DHVUG7DT",
        "outputId": "4443838d-cb85-460e-8983-2ad62002314b"
      },
      "source": [
        "Radiation_Little_Rissington.hist()"
      ],
      "execution_count": 61,
      "outputs": [
        {
          "output_type": "execute_result",
          "data": {
            "text/plain": [
              "<matplotlib.axes._subplots.AxesSubplot at 0x7fc1751f5f28>"
            ]
          },
          "metadata": {
            "tags": []
          },
          "execution_count": 61
        },
        {
          "output_type": "display_data",
          "data": {
            "image/png": "[encoded data removed]",
            "text/plain": [
              "<Figure size 432x288 with 1 Axes>"
            ]
          },
          "metadata": {
            "tags": [],
            "needs_background": "light"
          }
        }
      ]
    },
    {
      "cell_type": "markdown",
      "metadata": {
        "id": "-PXMJp0GHn43"
      },
      "source": [
        "QQ plot"
      ]
    },
    {
      "cell_type": "code",
      "metadata": {
        "colab": {
          "base_uri": "https://localhost:8080/",
          "height": 294
        },
        "id": "a9edRSBLFUNj",
        "outputId": "b5f8e78f-3430-48f4-f842-85954a9ae5fc"
      },
      "source": [
        "stats.probplot(Radiation_Little_Rissington, dist=\"norm\", plot=pylab)\r\n",
        "pylab.show()"
      ],
      "execution_count": 8,
      "outputs": [
        {
          "output_type": "display_data",
          "data": {
            "image/png": "[encoded data removed]",
            "text/plain": [
              "<Figure size 432x288 with 1 Axes>"
            ]
          },
          "metadata": {
            "tags": [],
            "needs_background": "light"
          }
        }
      ]
    },
    {
      "cell_type": "markdown",
      "metadata": {
        "id": "E_zKhPST9GKh"
      },
      "source": [
        "KS ONE sample test"
      ]
    },
    {
      "cell_type": "code",
      "metadata": {
        "colab": {
          "base_uri": "https://localhost:8080/"
        },
        "id": "GQ09GXwt7r4k",
        "outputId": "d139cde9-e949-47d5-81bb-3811e7125e47"
      },
      "source": [
        "kstest(Radiation_Little_Rissington,'norm')"
      ],
      "execution_count": 9,
      "outputs": [
        {
          "output_type": "execute_result",
          "data": {
            "text/plain": [
              "KstestResult(statistic=1.0, pvalue=0.0)"
            ]
          },
          "metadata": {
            "tags": []
          },
          "execution_count": 9
        }
      ]
    },
    {
      "cell_type": "markdown",
      "metadata": {
        "id": "CJMlPJoa-w5S"
      },
      "source": [
        "Shapiro Test"
      ]
    },
    {
      "cell_type": "code",
      "metadata": {
        "colab": {
          "base_uri": "https://localhost:8080/"
        },
        "id": "p7pMciIt-y_o",
        "outputId": "8ab20fec-77b6-4815-d51e-dab20597300e"
      },
      "source": [
        "shapiro(Radiation_Little_Rissington)"
      ],
      "execution_count": 10,
      "outputs": [
        {
          "output_type": "execute_result",
          "data": {
            "text/plain": [
              "(0.9240829348564148, 1.531567373463845e-39)"
            ]
          },
          "metadata": {
            "tags": []
          },
          "execution_count": 10
        }
      ]
    },
    {
      "cell_type": "markdown",
      "metadata": {
        "id": "A0DNQdDf4ewd"
      },
      "source": [
        "Monks Wood"
      ]
    },
    {
      "cell_type": "code",
      "metadata": {
        "id": "LbStwV6hXwbW"
      },
      "source": [
        "Monks_Wood=pd.read_excel('/content/drive/MyDrive/PHD/Monks Wood.xlsx')\r\n",
        "\r\n",
        "Monks_Wood['Date'] = pd.to_datetime(Monks_Wood['Date'], format='%d/%m/%Y')\r\n",
        "\r\n",
        "Monks_Wood.rename(columns={'Daily Maximum Temperature (0900-0900) (°C)': 'Max Temp',\r\n",
        "                   'Daily Minimum Temperature (0900-0900) (°C)': 'Min Temp',\r\n",
        "                  'Daily Mean Temperature (0900-0900) (°C)': 'Mean Temp',\r\n",
        "          'Daily Total Rainfall (0900-0900)(mm)': 'Rainfall(mm)',\r\n",
        "          'Daily Mean Windspeed (0100-2400) (kn)': 'Windspeed(kn)',\r\n",
        "          'Daily Maximum Gust (0100-2400) (kn)': 'Max Gust(kn)',\r\n",
        "          'Daily Total Global Radiation (KJ/m2)': 'Radiation(KJ/m2)'},\r\n",
        "          inplace=True)\r\n",
        "\r\n",
        "#propogate the last valid observation forward\r\n",
        "Monks_Wood.ffill(inplace=True)\r\n",
        "\r\n",
        "Radiation_Monks_Wood = Monks_Wood['Radiation(KJ/m2)']"
      ],
      "execution_count": 11,
      "outputs": []
    },
    {
      "cell_type": "markdown",
      "metadata": {
        "id": "oqcl4m8rHqnX"
      },
      "source": [
        "Hist plot"
      ]
    },
    {
      "cell_type": "code",
      "metadata": {
        "colab": {
          "base_uri": "https://localhost:8080/",
          "height": 282
        },
        "id": "nX_XnF4FGxBa",
        "outputId": "20969495-9ab8-413c-87aa-9d8be3c5c8f9"
      },
      "source": [
        "Radiation_Monks_Wood.hist()"
      ],
      "execution_count": 60,
      "outputs": [
        {
          "output_type": "execute_result",
          "data": {
            "text/plain": [
              "<matplotlib.axes._subplots.AxesSubplot at 0x7fc1759389e8>"
            ]
          },
          "metadata": {
            "tags": []
          },
          "execution_count": 60
        },
        {
          "output_type": "display_data",
          "data": {
            "image/png": "[encoded data removed]",
            "text/plain": [
              "<Figure size 432x288 with 1 Axes>"
            ]
          },
          "metadata": {
            "tags": [],
            "needs_background": "light"
          }
        }
      ]
    },
    {
      "cell_type": "markdown",
      "metadata": {
        "id": "JbPZR7eUHtYy"
      },
      "source": [
        "QQ plot"
      ]
    },
    {
      "cell_type": "code",
      "metadata": {
        "colab": {
          "base_uri": "https://localhost:8080/",
          "height": 294
        },
        "id": "76rdFmIAFr6R",
        "outputId": "e4577298-4b13-4cc5-9f6c-368287d41abc"
      },
      "source": [
        "stats.probplot(Radiation_Monks_Wood, dist=\"norm\", plot=pylab)\r\n",
        "pylab.show()"
      ],
      "execution_count": 14,
      "outputs": [
        {
          "output_type": "display_data",
          "data": {
            "image/png": "[encoded data removed]",
            "text/plain": [
              "<Figure size 432x288 with 1 Axes>"
            ]
          },
          "metadata": {
            "tags": [],
            "needs_background": "light"
          }
        }
      ]
    },
    {
      "cell_type": "markdown",
      "metadata": {
        "id": "7gqhG0oB9MoF"
      },
      "source": [
        "KS ONE sample test"
      ]
    },
    {
      "cell_type": "code",
      "metadata": {
        "colab": {
          "base_uri": "https://localhost:8080/"
        },
        "id": "MbGDinfm8AA4",
        "outputId": "b19d898c-e068-4f09-fd82-fa03396f13e4"
      },
      "source": [
        "kstest(Radiation_Monks_Wood,'norm')"
      ],
      "execution_count": 15,
      "outputs": [
        {
          "output_type": "execute_result",
          "data": {
            "text/plain": [
              "KstestResult(statistic=1.0, pvalue=0.0)"
            ]
          },
          "metadata": {
            "tags": []
          },
          "execution_count": 15
        }
      ]
    },
    {
      "cell_type": "markdown",
      "metadata": {
        "id": "i7Og3Yle_Mbk"
      },
      "source": [
        "shapiro test"
      ]
    },
    {
      "cell_type": "code",
      "metadata": {
        "colab": {
          "base_uri": "https://localhost:8080/"
        },
        "id": "YO4hp_EK_OQU",
        "outputId": "bbcf95fa-94d5-4c9f-b02b-056a81d733b6"
      },
      "source": [
        "shapiro(Radiation_Monks_Wood)"
      ],
      "execution_count": 16,
      "outputs": [
        {
          "output_type": "execute_result",
          "data": {
            "text/plain": [
              "(0.9257000088691711, 3.196070327044328e-39)"
            ]
          },
          "metadata": {
            "tags": []
          },
          "execution_count": 16
        }
      ]
    },
    {
      "cell_type": "markdown",
      "metadata": {
        "id": "-clkYmi_Q6cO"
      },
      "source": [
        "Bedford"
      ]
    },
    {
      "cell_type": "code",
      "metadata": {
        "id": "fdoubUTVXUuX"
      },
      "source": [
        "Bedford=pd.read_excel('/content/drive/MyDrive/PHD/bedford.xlsx')\r\n",
        "\r\n",
        "Bedford['Date'] = pd.to_datetime(Bedford['Date'], format='%d/%m/%Y')\r\n",
        "\r\n",
        "Bedford.rename(columns={'Daily Maximum Temperature (0900-0900) (°C)': 'Max Temp',\r\n",
        "                   'Daily Minimum Temperature (0900-0900) (°C)': 'Min Temp',\r\n",
        "                  'Daily Mean Temperature (0900-0900) (°C)': 'Mean Temp',\r\n",
        "          'Daily Total Rainfall (0900-0900)(mm)': 'Rainfall(mm)',\r\n",
        "          'Daily Mean Windspeed (0100-2400) (kn)': 'Windspeed(kn)',\r\n",
        "          'Daily Maximum Gust (0100-2400) (kn)': 'Max Gust(kn)',\r\n",
        "          'Daily Total Global Radiation (KJ/m2)': 'Radiation(KJ/m2)'},\r\n",
        "          inplace=True)\r\n",
        "\r\n",
        "#propogate the last valid observation forward\r\n",
        "Bedford.ffill(inplace=True)\r\n",
        "\r\n",
        "Radiation_Bedford = Bedford['Radiation(KJ/m2)']"
      ],
      "execution_count": 17,
      "outputs": []
    },
    {
      "cell_type": "markdown",
      "metadata": {
        "id": "T4N9wsxMHvYJ"
      },
      "source": [
        "Hist plot"
      ]
    },
    {
      "cell_type": "code",
      "metadata": {
        "colab": {
          "base_uri": "https://localhost:8080/",
          "height": 282
        },
        "id": "ob7hBP3cHBsv",
        "outputId": "756cc701-8c47-4670-f21b-ee090b08c52c"
      },
      "source": [
        "Radiation_Bedford.hist()"
      ],
      "execution_count": 62,
      "outputs": [
        {
          "output_type": "execute_result",
          "data": {
            "text/plain": [
              "<matplotlib.axes._subplots.AxesSubplot at 0x7fc175310f28>"
            ]
          },
          "metadata": {
            "tags": []
          },
          "execution_count": 62
        },
        {
          "output_type": "display_data",
          "data": {
            "image/png": "[encoded data removed]",
            "text/plain": [
              "<Figure size 432x288 with 1 Axes>"
            ]
          },
          "metadata": {
            "tags": [],
            "needs_background": "light"
          }
        }
      ]
    },
    {
      "cell_type": "markdown",
      "metadata": {
        "id": "uVfNAW2EHxB9"
      },
      "source": [
        "QQ plot"
      ]
    },
    {
      "cell_type": "code",
      "metadata": {
        "colab": {
          "base_uri": "https://localhost:8080/",
          "height": 294
        },
        "id": "sOQCxpciFwsd",
        "outputId": "ff87d24d-2dc6-4e2c-fcde-7933a1b33726"
      },
      "source": [
        "stats.probplot(Radiation_Bedford, dist=\"norm\", plot=pylab)\r\n",
        "pylab.show()"
      ],
      "execution_count": 18,
      "outputs": [
        {
          "output_type": "display_data",
          "data": {
            "image/png": "[encoded data removed]",
            "text/plain": [
              "<Figure size 432x288 with 1 Axes>"
            ]
          },
          "metadata": {
            "tags": [],
            "needs_background": "light"
          }
        }
      ]
    },
    {
      "cell_type": "markdown",
      "metadata": {
        "id": "tFFMdUJu9PRm"
      },
      "source": [
        "KS ONE sample test"
      ]
    },
    {
      "cell_type": "code",
      "metadata": {
        "colab": {
          "base_uri": "https://localhost:8080/"
        },
        "id": "05nXgP3v8Ewz",
        "outputId": "14b8ad3c-fe5b-4c59-d089-d47d30792199"
      },
      "source": [
        "kstest(Radiation_Bedford,'norm')"
      ],
      "execution_count": 19,
      "outputs": [
        {
          "output_type": "execute_result",
          "data": {
            "text/plain": [
              "KstestResult(statistic=1.0, pvalue=0.0)"
            ]
          },
          "metadata": {
            "tags": []
          },
          "execution_count": 19
        }
      ]
    },
    {
      "cell_type": "markdown",
      "metadata": {
        "id": "rmROZFvD_T-4"
      },
      "source": [
        "Shapiro test"
      ]
    },
    {
      "cell_type": "code",
      "metadata": {
        "colab": {
          "base_uri": "https://localhost:8080/"
        },
        "id": "b4UhD_VU_Wan",
        "outputId": "820fb72c-6139-4cbc-eebc-3600b0248665"
      },
      "source": [
        "shapiro(Radiation_Bedford)"
      ],
      "execution_count": 20,
      "outputs": [
        {
          "output_type": "execute_result",
          "data": {
            "text/plain": [
              "(0.9261074662208557, 3.8546946182616354e-39)"
            ]
          },
          "metadata": {
            "tags": []
          },
          "execution_count": 20
        }
      ]
    },
    {
      "cell_type": "markdown",
      "metadata": {
        "id": "NbQuMBtkVc5m"
      },
      "source": [
        "Waddington"
      ]
    },
    {
      "cell_type": "code",
      "metadata": {
        "id": "RUB7Ry84VbjU"
      },
      "source": [
        "Waddington=pd.read_excel('/content/drive/MyDrive/PHD/Waddington.xlsx')\r\n",
        "\r\n",
        "Waddington['Date'] = pd.to_datetime(Waddington['Date'], format='%d/%m/%Y')\r\n",
        "\r\n",
        "Waddington.rename(columns={'Daily Maximum Temperature (0900-0900) (°C)': 'Max Temp',\r\n",
        "                   'Daily Minimum Temperature (0900-0900) (°C)': 'Min Temp',\r\n",
        "                  'Daily Mean Temperature (0900-0900) (°C)': 'Mean Temp',\r\n",
        "          'Daily Total Rainfall (0900-0900)(mm)': 'Rainfall(mm)',\r\n",
        "          'Daily Mean Windspeed (0100-2400) (kn)': 'Windspeed(kn)',\r\n",
        "          'Daily Maximum Gust (0100-2400) (kn)': 'Max Gust(kn)',\r\n",
        "          'Daily Total Global Radiation (KJ/m2)': 'Radiation(KJ/m2)'},\r\n",
        "          inplace=True)\r\n",
        "\r\n",
        "#propogate the last valid observation forward\r\n",
        "Waddington.ffill(inplace=True)\r\n",
        "\r\n",
        "Radiation_Waddington = Waddington['Radiation(KJ/m2)']"
      ],
      "execution_count": 21,
      "outputs": []
    },
    {
      "cell_type": "markdown",
      "metadata": {
        "id": "39wURAIsHy6Z"
      },
      "source": [
        "Hist plot"
      ]
    },
    {
      "cell_type": "code",
      "metadata": {
        "colab": {
          "base_uri": "https://localhost:8080/",
          "height": 282
        },
        "id": "tFlBJvfdHGKq",
        "outputId": "f93a8a6b-e1dc-45ec-924d-b2ce9f64c76e"
      },
      "source": [
        "Radiation_Waddington.hist()"
      ],
      "execution_count": 63,
      "outputs": [
        {
          "output_type": "execute_result",
          "data": {
            "text/plain": [
              "<matplotlib.axes._subplots.AxesSubplot at 0x7fc1753f90b8>"
            ]
          },
          "metadata": {
            "tags": []
          },
          "execution_count": 63
        },
        {
          "output_type": "display_data",
          "data": {
            "image/png": "[encoded data removed]",
            "text/plain": [
              "<Figure size 432x288 with 1 Axes>"
            ]
          },
          "metadata": {
            "tags": [],
            "needs_background": "light"
          }
        }
      ]
    },
    {
      "cell_type": "markdown",
      "metadata": {
        "id": "2SXyc1zVH0s-"
      },
      "source": [
        "QQ plot"
      ]
    },
    {
      "cell_type": "code",
      "metadata": {
        "colab": {
          "base_uri": "https://localhost:8080/",
          "height": 294
        },
        "id": "6RCnvBupF1JT",
        "outputId": "9d33c158-bbad-49c4-fd7d-329924c77ca2"
      },
      "source": [
        "stats.probplot(Radiation_Waddington, dist=\"norm\", plot=pylab)\r\n",
        "pylab.show()"
      ],
      "execution_count": 22,
      "outputs": [
        {
          "output_type": "display_data",
          "data": {
            "image/png": "[encoded data removed]",
            "text/plain": [
              "<Figure size 432x288 with 1 Axes>"
            ]
          },
          "metadata": {
            "tags": [],
            "needs_background": "light"
          }
        }
      ]
    },
    {
      "cell_type": "markdown",
      "metadata": {
        "id": "sPSc4e849Q9C"
      },
      "source": [
        "KS ONE sample test"
      ]
    },
    {
      "cell_type": "code",
      "metadata": {
        "colab": {
          "base_uri": "https://localhost:8080/"
        },
        "id": "fRDlS89R8Kna",
        "outputId": "e11c75bd-f2a1-4619-c04e-6628415aca3a"
      },
      "source": [
        "kstest(Radiation_Waddington,'norm')"
      ],
      "execution_count": 23,
      "outputs": [
        {
          "output_type": "execute_result",
          "data": {
            "text/plain": [
              "KstestResult(statistic=1.0, pvalue=0.0)"
            ]
          },
          "metadata": {
            "tags": []
          },
          "execution_count": 23
        }
      ]
    },
    {
      "cell_type": "markdown",
      "metadata": {
        "id": "IjBB7T2TZ8Yb"
      },
      "source": [
        "Wittering"
      ]
    },
    {
      "cell_type": "code",
      "metadata": {
        "id": "o8IgAoObZ-Mj"
      },
      "source": [
        "Wittering=pd.read_excel('/content/drive/MyDrive/PHD/Wittering.xlsx')\r\n",
        "\r\n",
        "Wittering['Date'] = pd.to_datetime(Wittering['Date'], format='%d/%m/%Y')\r\n",
        "\r\n",
        "Wittering.rename(columns={'Daily Maximum Temperature (0900-0900) (°C)': 'Max Temp',\r\n",
        "                   'Daily Minimum Temperature (0900-0900) (°C)': 'Min Temp',\r\n",
        "                  'Daily Mean Temperature (0900-0900) (°C)': 'Mean Temp',\r\n",
        "          'Daily Total Rainfall (0900-0900)(mm)': 'Rainfall(mm)',\r\n",
        "          'Daily Mean Windspeed (0100-2400) (kn)': 'Windspeed(kn)',\r\n",
        "          'Daily Maximum Gust (0100-2400) (kn)': 'Max Gust(kn)',\r\n",
        "          'Daily Total Global Radiation (KJ/m2)': 'Radiation(KJ/m2)'},\r\n",
        "          inplace=True)\r\n",
        "\r\n",
        "#propogate the last valid observation forward\r\n",
        "Wittering.ffill(inplace=True)\r\n",
        "\r\n",
        "Radiation_Wittering = Wittering['Radiation(KJ/m2)']"
      ],
      "execution_count": 24,
      "outputs": []
    },
    {
      "cell_type": "markdown",
      "metadata": {
        "id": "MZJUdTc2H2ex"
      },
      "source": [
        "Hist plot"
      ]
    },
    {
      "cell_type": "code",
      "metadata": {
        "colab": {
          "base_uri": "https://localhost:8080/",
          "height": 282
        },
        "id": "jaa4EwcoHJdL",
        "outputId": "8566052f-2a3b-4869-8e33-7503856f7c35"
      },
      "source": [
        "Radiation_Wittering.hist()"
      ],
      "execution_count": 64,
      "outputs": [
        {
          "output_type": "execute_result",
          "data": {
            "text/plain": [
              "<matplotlib.axes._subplots.AxesSubplot at 0x7fc17535dbe0>"
            ]
          },
          "metadata": {
            "tags": []
          },
          "execution_count": 64
        },
        {
          "output_type": "display_data",
          "data": {
            "image/png": "[encoded data removed]",
            "text/plain": [
              "<Figure size 432x288 with 1 Axes>"
            ]
          },
          "metadata": {
            "tags": [],
            "needs_background": "light"
          }
        }
      ]
    },
    {
      "cell_type": "markdown",
      "metadata": {
        "id": "HIOxGaqMH4LT"
      },
      "source": [
        "QQ plot"
      ]
    },
    {
      "cell_type": "code",
      "metadata": {
        "colab": {
          "base_uri": "https://localhost:8080/",
          "height": 294
        },
        "id": "QqVPo0LGF66B",
        "outputId": "572200cc-2bce-43d3-8004-eb6f46fe7f6e"
      },
      "source": [
        "stats.probplot(Radiation_Wittering, dist=\"norm\", plot=pylab)\r\n",
        "pylab.show()"
      ],
      "execution_count": 25,
      "outputs": [
        {
          "output_type": "display_data",
          "data": {
            "image/png": "[encoded data removed]",
            "text/plain": [
              "<Figure size 432x288 with 1 Axes>"
            ]
          },
          "metadata": {
            "tags": [],
            "needs_background": "light"
          }
        }
      ]
    },
    {
      "cell_type": "markdown",
      "metadata": {
        "id": "Fh-4WaOO9TMU"
      },
      "source": [
        "KS ONE sample test"
      ]
    },
    {
      "cell_type": "code",
      "metadata": {
        "colab": {
          "base_uri": "https://localhost:8080/"
        },
        "id": "Djg-oOH78QCb",
        "outputId": "774de750-ede9-4ee6-fe68-ea83957a1b22"
      },
      "source": [
        "kstest(Radiation_Wittering,'norm')"
      ],
      "execution_count": 26,
      "outputs": [
        {
          "output_type": "execute_result",
          "data": {
            "text/plain": [
              "KstestResult(statistic=1.0, pvalue=0.0)"
            ]
          },
          "metadata": {
            "tags": []
          },
          "execution_count": 26
        }
      ]
    },
    {
      "cell_type": "markdown",
      "metadata": {
        "id": "W6WKRJ4aaqMN"
      },
      "source": [
        "Nottingham"
      ]
    },
    {
      "cell_type": "code",
      "metadata": {
        "id": "3MYRECP4avkA"
      },
      "source": [
        "Nottingham=pd.read_excel('/content/drive/MyDrive/PHD/Nottingham.xlsx')\r\n",
        "\r\n",
        "Nottingham['Date'] = pd.to_datetime(Nottingham['Date'], format='%d/%m/%Y')\r\n",
        "\r\n",
        "Nottingham.rename(columns={'Daily Maximum Temperature (0900-0900) (°C)': 'Max Temp',\r\n",
        "                   'Daily Minimum Temperature (0900-0900) (°C)': 'Min Temp',\r\n",
        "                  'Daily Mean Temperature (0900-0900) (°C)': 'Mean Temp',\r\n",
        "          'Daily Total Rainfall (0900-0900)(mm)': 'Rainfall(mm)',\r\n",
        "          'Daily Mean Windspeed (0100-2400) (kn)': 'Windspeed(kn)',\r\n",
        "          'Daily Maximum Gust (0100-2400) (kn)': 'Max Gust(kn)',\r\n",
        "          'Daily Total Global Radiation (KJ/m2)': 'Radiation(KJ/m2)'},\r\n",
        "          inplace=True)\r\n",
        "\r\n",
        "#propogate the last valid observation forward\r\n",
        "Nottingham.ffill(inplace=True)\r\n",
        "\r\n",
        "Radiation_Nottingham = Nottingham['Radiation(KJ/m2)']"
      ],
      "execution_count": 27,
      "outputs": []
    },
    {
      "cell_type": "markdown",
      "metadata": {
        "id": "T3AlrM4_H5xy"
      },
      "source": [
        "Hist plot"
      ]
    },
    {
      "cell_type": "code",
      "metadata": {
        "colab": {
          "base_uri": "https://localhost:8080/",
          "height": 282
        },
        "id": "mF-8DFxbHMce",
        "outputId": "db5d01da-e8e1-43f3-eede-3e67cad7ea44"
      },
      "source": [
        "Radiation_Nottingham.hist()"
      ],
      "execution_count": 65,
      "outputs": [
        {
          "output_type": "execute_result",
          "data": {
            "text/plain": [
              "<matplotlib.axes._subplots.AxesSubplot at 0x7fc1750cab00>"
            ]
          },
          "metadata": {
            "tags": []
          },
          "execution_count": 65
        },
        {
          "output_type": "display_data",
          "data": {
            "image/png": "[encoded data removed]",
            "text/plain": [
              "<Figure size 432x288 with 1 Axes>"
            ]
          },
          "metadata": {
            "tags": [],
            "needs_background": "light"
          }
        }
      ]
    },
    {
      "cell_type": "markdown",
      "metadata": {
        "id": "oyIoWRzKH627"
      },
      "source": [
        "QQ plot"
      ]
    },
    {
      "cell_type": "code",
      "metadata": {
        "colab": {
          "base_uri": "https://localhost:8080/",
          "height": 294
        },
        "id": "m4l07mbjF_fp",
        "outputId": "93a43050-e5e9-45b2-a074-ceeeb46d9965"
      },
      "source": [
        "stats.probplot(Radiation_Nottingham, dist=\"norm\", plot=pylab)\r\n",
        "pylab.show()"
      ],
      "execution_count": 28,
      "outputs": [
        {
          "output_type": "display_data",
          "data": {
            "image/png": "[encoded data removed]",
            "text/plain": [
              "<Figure size 432x288 with 1 Axes>"
            ]
          },
          "metadata": {
            "tags": [],
            "needs_background": "light"
          }
        }
      ]
    },
    {
      "cell_type": "markdown",
      "metadata": {
        "id": "E5vd4v8N9VJP"
      },
      "source": [
        "KS ONE sample test"
      ]
    },
    {
      "cell_type": "code",
      "metadata": {
        "colab": {
          "base_uri": "https://localhost:8080/"
        },
        "id": "KetVkPYV8V_W",
        "outputId": "f914628a-7d04-471d-c17c-3bd7155eef96"
      },
      "source": [
        "kstest(Radiation_Nottingham,'norm')"
      ],
      "execution_count": 29,
      "outputs": [
        {
          "output_type": "execute_result",
          "data": {
            "text/plain": [
              "KstestResult(statistic=1.0, pvalue=0.0)"
            ]
          },
          "metadata": {
            "tags": []
          },
          "execution_count": 29
        }
      ]
    },
    {
      "cell_type": "markdown",
      "metadata": {
        "id": "rY66MBEAdkB-"
      },
      "source": [
        "Sutton"
      ]
    },
    {
      "cell_type": "code",
      "metadata": {
        "id": "NcD7zMdodmUG"
      },
      "source": [
        "Sutton=pd.read_excel('/content/drive/MyDrive/PHD/Sutton.xlsx')\r\n",
        "\r\n",
        "Sutton['Date'] = pd.to_datetime(Sutton['Date'], format='%d/%m/%Y')\r\n",
        "\r\n",
        "Sutton.rename(columns={'Daily Maximum Temperature (0900-0900) (°C)': 'Max Temp',\r\n",
        "                   'Daily Minimum Temperature (0900-0900) (°C)': 'Min Temp',\r\n",
        "                  'Daily Mean Temperature (0900-0900) (°C)': 'Mean Temp',\r\n",
        "          'Daily Total Rainfall (0900-0900)(mm)': 'Rainfall(mm)',\r\n",
        "          'Daily Mean Windspeed (0100-2400) (kn)': 'Windspeed(kn)',\r\n",
        "          'Daily Maximum Gust (0100-2400) (kn)': 'Max Gust(kn)',\r\n",
        "          'Daily Total Global Radiation (KJ/m2)': 'Radiation(KJ/m2)'},\r\n",
        "          inplace=True)\r\n",
        "\r\n",
        "#propogate the last valid observation forward\r\n",
        "Sutton.ffill(inplace=True)\r\n",
        "\r\n",
        "Radiation_Sutton = Sutton['Radiation(KJ/m2)']"
      ],
      "execution_count": 30,
      "outputs": []
    },
    {
      "cell_type": "markdown",
      "metadata": {
        "id": "3z2Fr1jcH8Yd"
      },
      "source": [
        "Hist plot"
      ]
    },
    {
      "cell_type": "code",
      "metadata": {
        "colab": {
          "base_uri": "https://localhost:8080/",
          "height": 282
        },
        "id": "QYS-JFWUHQY3",
        "outputId": "71057bb5-5cef-4051-d1e2-27cafc1bd30a"
      },
      "source": [
        "Radiation_Sutton.hist()"
      ],
      "execution_count": 66,
      "outputs": [
        {
          "output_type": "execute_result",
          "data": {
            "text/plain": [
              "<matplotlib.axes._subplots.AxesSubplot at 0x7fc175d3afd0>"
            ]
          },
          "metadata": {
            "tags": []
          },
          "execution_count": 66
        },
        {
          "output_type": "display_data",
          "data": {
            "image/png": "[encoded data removed]",
            "text/plain": [
              "<Figure size 432x288 with 1 Axes>"
            ]
          },
          "metadata": {
            "tags": [],
            "needs_background": "light"
          }
        }
      ]
    },
    {
      "cell_type": "markdown",
      "metadata": {
        "id": "3aC0LXA5H9fD"
      },
      "source": [
        "QQ plot"
      ]
    },
    {
      "cell_type": "code",
      "metadata": {
        "colab": {
          "base_uri": "https://localhost:8080/",
          "height": 294
        },
        "id": "nJbuDj8pGF3G",
        "outputId": "937ad88e-735b-4056-9c57-f86a0606fcec"
      },
      "source": [
        "stats.probplot(Radiation_Sutton, dist=\"norm\", plot=pylab)\r\n",
        "pylab.show()"
      ],
      "execution_count": 31,
      "outputs": [
        {
          "output_type": "display_data",
          "data": {
            "image/png": "[encoded data removed]",
            "text/plain": [
              "<Figure size 432x288 with 1 Axes>"
            ]
          },
          "metadata": {
            "tags": [],
            "needs_background": "light"
          }
        }
      ]
    },
    {
      "cell_type": "markdown",
      "metadata": {
        "id": "4caKlxhB9XIu"
      },
      "source": [
        "KS ONE sample test"
      ]
    },
    {
      "cell_type": "code",
      "metadata": {
        "colab": {
          "base_uri": "https://localhost:8080/"
        },
        "id": "dxuCNtpy8dSh",
        "outputId": "1a44861e-96fc-4119-cad4-683c344f34e8"
      },
      "source": [
        "kstest(Radiation_Sutton,'norm')"
      ],
      "execution_count": 32,
      "outputs": [
        {
          "output_type": "execute_result",
          "data": {
            "text/plain": [
              "KstestResult(statistic=1.0, pvalue=0.0)"
            ]
          },
          "metadata": {
            "tags": []
          },
          "execution_count": 32
        }
      ]
    },
    {
      "cell_type": "markdown",
      "metadata": {
        "id": "WVseMAD_e4Ja"
      },
      "source": [
        "Church Lawford"
      ]
    },
    {
      "cell_type": "code",
      "metadata": {
        "id": "JOV7Bm1Be7hk"
      },
      "source": [
        "Church_lawford=pd.read_excel('/content/drive/MyDrive/PHD/Church Lawford.xlsx')\r\n",
        "\r\n",
        "Church_lawford['Date'] = pd.to_datetime(Church_lawford['Date'], format='%d/%m/%Y')\r\n",
        "\r\n",
        "Church_lawford.rename(columns={'Daily Maximum Temperature (0900-0900) (°C)': 'Max Temp',\r\n",
        "                   'Daily Minimum Temperature (0900-0900) (°C)': 'Min Temp',\r\n",
        "                  'Daily Mean Temperature (0900-0900) (°C)': 'Mean Temp',\r\n",
        "          'Daily Total Rainfall (0900-0900)(mm)': 'Rainfall(mm)',\r\n",
        "          'Daily Mean Windspeed (0100-2400) (kn)': 'Windspeed(kn)',\r\n",
        "          'Daily Maximum Gust (0100-2400) (kn)': 'Max Gust(kn)',\r\n",
        "          'Daily Total Global Radiation (KJ/m2)': 'Radiation(KJ/m2)'},\r\n",
        "          inplace=True)\r\n",
        "\r\n",
        "#propogate the last valid observation forward\r\n",
        "Church_lawford.ffill(inplace=True)\r\n",
        "\r\n",
        "Radiation_Church_lawford = Church_lawford['Radiation(KJ/m2)']"
      ],
      "execution_count": 33,
      "outputs": []
    },
    {
      "cell_type": "markdown",
      "metadata": {
        "id": "xfXUZsusH_Jz"
      },
      "source": [
        "Hist plot"
      ]
    },
    {
      "cell_type": "code",
      "metadata": {
        "colab": {
          "base_uri": "https://localhost:8080/",
          "height": 282
        },
        "id": "GnVpIhqrHTbn",
        "outputId": "dc00dc75-9d61-494b-a062-151fa77f5474"
      },
      "source": [
        "Radiation_Church_lawford.hist()"
      ],
      "execution_count": 67,
      "outputs": [
        {
          "output_type": "execute_result",
          "data": {
            "text/plain": [
              "<matplotlib.axes._subplots.AxesSubplot at 0x7fc174e21588>"
            ]
          },
          "metadata": {
            "tags": []
          },
          "execution_count": 67
        },
        {
          "output_type": "display_data",
          "data": {
            "image/png": "[encoded data removed]",
            "text/plain": [
              "<Figure size 432x288 with 1 Axes>"
            ]
          },
          "metadata": {
            "tags": [],
            "needs_background": "light"
          }
        }
      ]
    },
    {
      "cell_type": "markdown",
      "metadata": {
        "id": "mpsdDqd2IATW"
      },
      "source": [
        "QQ plot"
      ]
    },
    {
      "cell_type": "code",
      "metadata": {
        "colab": {
          "base_uri": "https://localhost:8080/",
          "height": 294
        },
        "id": "_TzspBDuGKkt",
        "outputId": "078157fc-afaa-48b9-9e99-d93920f7f575"
      },
      "source": [
        "stats.probplot(Radiation_Church_lawford, dist=\"norm\", plot=pylab)\r\n",
        "pylab.show()"
      ],
      "execution_count": 34,
      "outputs": [
        {
          "output_type": "display_data",
          "data": {
            "image/png": "[encoded data removed]",
            "text/plain": [
              "<Figure size 432x288 with 1 Axes>"
            ]
          },
          "metadata": {
            "tags": [],
            "needs_background": "light"
          }
        }
      ]
    },
    {
      "cell_type": "markdown",
      "metadata": {
        "id": "oY0eubfS9ZKM"
      },
      "source": [
        "KS ONE sample test"
      ]
    },
    {
      "cell_type": "code",
      "metadata": {
        "colab": {
          "base_uri": "https://localhost:8080/"
        },
        "id": "UyTn1NEu8iWi",
        "outputId": "7555560a-6acc-4992-da66-bd4ffa6fb5ef"
      },
      "source": [
        "kstest(Radiation_Church_lawford,'norm')"
      ],
      "execution_count": 35,
      "outputs": [
        {
          "output_type": "execute_result",
          "data": {
            "text/plain": [
              "KstestResult(statistic=1.0, pvalue=0.0)"
            ]
          },
          "metadata": {
            "tags": []
          },
          "execution_count": 35
        }
      ]
    },
    {
      "cell_type": "markdown",
      "metadata": {
        "id": "D_WDXuiwgltk"
      },
      "source": [
        "Coventry"
      ]
    },
    {
      "cell_type": "code",
      "metadata": {
        "id": "wAV-WoTxgoQe"
      },
      "source": [
        "Coventry=pd.read_excel('/content/drive/MyDrive/PHD/Coventry.xlsx')\r\n",
        "\r\n",
        "Coventry['Date'] = pd.to_datetime(Coventry['Date'], format='%d/%m/%Y')\r\n",
        "\r\n",
        "Coventry.rename(columns={'Daily Maximum Temperature (0900-0900) (°C)': 'Max Temp',\r\n",
        "                   'Daily Minimum Temperature (0900-0900) (°C)': 'Min Temp',\r\n",
        "                  'Daily Mean Temperature (0900-0900) (°C)': 'Mean Temp',\r\n",
        "          'Daily Total Rainfall (0900-0900)(mm)': 'Rainfall(mm)',\r\n",
        "          'Daily Mean Windspeed (0100-2400) (kn)': 'Windspeed(kn)',\r\n",
        "          'Daily Maximum Gust (0100-2400) (kn)': 'Max Gust(kn)',\r\n",
        "          'Daily Total Global Radiation (KJ/m2)': 'Radiation(KJ/m2)'},\r\n",
        "          inplace=True)\r\n",
        "\r\n",
        "#propogate the last valid observation forward\r\n",
        "Coventry.ffill(inplace=True)\r\n",
        "\r\n",
        "Radiation_Coventry = Coventry['Radiation(KJ/m2)']"
      ],
      "execution_count": 36,
      "outputs": []
    },
    {
      "cell_type": "markdown",
      "metadata": {
        "id": "fU_L6uoSIB0t"
      },
      "source": [
        "Hist plot"
      ]
    },
    {
      "cell_type": "code",
      "metadata": {
        "colab": {
          "base_uri": "https://localhost:8080/",
          "height": 282
        },
        "id": "EQRzq_X0HW9q",
        "outputId": "01cfc235-f836-425b-9a2d-55c1d6aa0b44"
      },
      "source": [
        "Radiation_Coventry.hist()"
      ],
      "execution_count": 68,
      "outputs": [
        {
          "output_type": "execute_result",
          "data": {
            "text/plain": [
              "<matplotlib.axes._subplots.AxesSubplot at 0x7fc174d71a58>"
            ]
          },
          "metadata": {
            "tags": []
          },
          "execution_count": 68
        },
        {
          "output_type": "display_data",
          "data": {
            "image/png": "[encoded data removed]",
            "text/plain": [
              "<Figure size 432x288 with 1 Axes>"
            ]
          },
          "metadata": {
            "tags": [],
            "needs_background": "light"
          }
        }
      ]
    },
    {
      "cell_type": "markdown",
      "metadata": {
        "id": "bDzi6kzlIC_i"
      },
      "source": [
        "QQ plot"
      ]
    },
    {
      "cell_type": "code",
      "metadata": {
        "colab": {
          "base_uri": "https://localhost:8080/",
          "height": 294
        },
        "id": "HyAaptnSGOwM",
        "outputId": "15eba0e9-f9c7-4795-d1c7-2ed429063c82"
      },
      "source": [
        "stats.probplot(Radiation_Coventry, dist=\"norm\", plot=pylab)\r\n",
        "pylab.show()"
      ],
      "execution_count": 37,
      "outputs": [
        {
          "output_type": "display_data",
          "data": {
            "image/png": "[encoded data removed]",
            "text/plain": [
              "<Figure size 432x288 with 1 Axes>"
            ]
          },
          "metadata": {
            "tags": [],
            "needs_background": "light"
          }
        }
      ]
    },
    {
      "cell_type": "markdown",
      "metadata": {
        "id": "vif13xO09a3U"
      },
      "source": [
        "KS ONE sample test"
      ]
    },
    {
      "cell_type": "code",
      "metadata": {
        "colab": {
          "base_uri": "https://localhost:8080/"
        },
        "id": "qVjWe-9l8o3i",
        "outputId": "a5e531a2-0bce-497a-a350-a445de9aa7bd"
      },
      "source": [
        "kstest(Radiation_Coventry,'norm')"
      ],
      "execution_count": 38,
      "outputs": [
        {
          "output_type": "execute_result",
          "data": {
            "text/plain": [
              "KstestResult(statistic=1.0, pvalue=0.0)"
            ]
          },
          "metadata": {
            "tags": []
          },
          "execution_count": 38
        }
      ]
    },
    {
      "cell_type": "markdown",
      "metadata": {
        "id": "fJKRLAZXhWhy"
      },
      "source": [
        "Coleshill"
      ]
    },
    {
      "cell_type": "code",
      "metadata": {
        "id": "kocUxeF_hZRc"
      },
      "source": [
        "Coleshill=pd.read_excel('/content/drive/MyDrive/PHD/Coleshill.xlsx')\r\n",
        "\r\n",
        "Coleshill['Date'] = pd.to_datetime(Coleshill['Date'], format='%d/%m/%Y')\r\n",
        "\r\n",
        "Coleshill.rename(columns={'Daily Maximum Temperature (0900-0900) (°C)': 'Max Temp',\r\n",
        "                   'Daily Minimum Temperature (0900-0900) (°C)': 'Min Temp',\r\n",
        "                  'Daily Mean Temperature (0900-0900) (°C)': 'Mean Temp',\r\n",
        "          'Daily Total Rainfall (0900-0900)(mm)': 'Rainfall(mm)',\r\n",
        "          'Daily Mean Windspeed (0100-2400) (kn)': 'Windspeed(kn)',\r\n",
        "          'Daily Maximum Gust (0100-2400) (kn)': 'Max Gust(kn)',\r\n",
        "          'Daily Total Global Radiation (KJ/m2)': 'Radiation(KJ/m2)'},\r\n",
        "          inplace=True)\r\n",
        "\r\n",
        "#propogate the last valid observation forward\r\n",
        "Coleshill.ffill(inplace=True)\r\n",
        "\r\n",
        "Radiation_Coleshill = Coleshill['Radiation(KJ/m2)']"
      ],
      "execution_count": 39,
      "outputs": []
    },
    {
      "cell_type": "markdown",
      "metadata": {
        "id": "YqGsVUjeIEf5"
      },
      "source": [
        "Hist plot"
      ]
    },
    {
      "cell_type": "code",
      "metadata": {
        "colab": {
          "base_uri": "https://localhost:8080/",
          "height": 282
        },
        "id": "8NTosG0pHaKL",
        "outputId": "7a5210f3-e80b-477b-a083-5fd5fd851c7d"
      },
      "source": [
        "Radiation_Coleshill.hist()"
      ],
      "execution_count": 70,
      "outputs": [
        {
          "output_type": "execute_result",
          "data": {
            "text/plain": [
              "<matplotlib.axes._subplots.AxesSubplot at 0x7fc174c217b8>"
            ]
          },
          "metadata": {
            "tags": []
          },
          "execution_count": 70
        },
        {
          "output_type": "display_data",
          "data": {
            "image/png": "[encoded data removed]",
            "text/plain": [
              "<Figure size 432x288 with 1 Axes>"
            ]
          },
          "metadata": {
            "tags": [],
            "needs_background": "light"
          }
        }
      ]
    },
    {
      "cell_type": "markdown",
      "metadata": {
        "id": "MuY1IjKRIFgH"
      },
      "source": [
        "QQ plot"
      ]
    },
    {
      "cell_type": "code",
      "metadata": {
        "colab": {
          "base_uri": "https://localhost:8080/",
          "height": 294
        },
        "id": "rRvQDGpZGU48",
        "outputId": "3c232ae9-4981-455c-8812-e3e8e6f4acca"
      },
      "source": [
        "stats.probplot(Radiation_Coleshill, dist=\"norm\", plot=pylab)\r\n",
        "pylab.show()"
      ],
      "execution_count": 40,
      "outputs": [
        {
          "output_type": "display_data",
          "data": {
            "image/png": "[encoded data removed]",
            "text/plain": [
              "<Figure size 432x288 with 1 Axes>"
            ]
          },
          "metadata": {
            "tags": [],
            "needs_background": "light"
          }
        }
      ]
    },
    {
      "cell_type": "markdown",
      "metadata": {
        "id": "Bbakab5U9dH9"
      },
      "source": [
        "KS ONE sample test"
      ]
    },
    {
      "cell_type": "code",
      "metadata": {
        "colab": {
          "base_uri": "https://localhost:8080/"
        },
        "id": "Sb03L7Q78u6Y",
        "outputId": "7b87527f-878b-4619-f707-264e042aaed5"
      },
      "source": [
        "kstest(Radiation_Coleshill,'norm')"
      ],
      "execution_count": 41,
      "outputs": [
        {
          "output_type": "execute_result",
          "data": {
            "text/plain": [
              "KstestResult(statistic=1.0, pvalue=0.0)"
            ]
          },
          "metadata": {
            "tags": []
          },
          "execution_count": 41
        }
      ]
    },
    {
      "cell_type": "markdown",
      "metadata": {
        "id": "PK90jnA_TPLw"
      },
      "source": [
        "Little Rissington vs Monks Wood (72.71 Miles, East)"
      ]
    },
    {
      "cell_type": "markdown",
      "metadata": {
        "id": "sagPt4LY5TK9"
      },
      "source": [
        "T-test"
      ]
    },
    {
      "cell_type": "code",
      "metadata": {
        "colab": {
          "base_uri": "https://localhost:8080/"
        },
        "id": "yLjHW4TESJRT",
        "outputId": "a86b15bc-6536-437b-b474-af029e70da96"
      },
      "source": [
        "sample_size = 2000\r\n",
        "Little_Rissington_sampled = np.random.choice(Radiation_Little_Rissington, sample_size)\r\n",
        "Monks_Wood_sampled = np.random.choice(Radiation_Monks_Wood, sample_size)\r\n",
        "compare_2_groups(Little_Rissington_sampled, Monks_Wood_sampled, 0.05, sample_size)"
      ],
      "execution_count": 42,
      "outputs": [
        {
          "output_type": "stream",
          "text": [
            "Statistics=0.538, p=0.590\n",
            "Same distributions (fail to reject H0)\n"
          ],
          "name": "stdout"
        }
      ]
    },
    {
      "cell_type": "markdown",
      "metadata": {
        "id": "q9z0kh0s5XBH"
      },
      "source": [
        "KS Test"
      ]
    },
    {
      "cell_type": "code",
      "metadata": {
        "colab": {
          "base_uri": "https://localhost:8080/"
        },
        "id": "QuEDV7nZ4-9u",
        "outputId": "4c881f2b-e245-4ba7-c141-cf73cbe3f0c7"
      },
      "source": [
        "ks_2samp(Little_Rissington_sampled,Monks_Wood_sampled)"
      ],
      "execution_count": 43,
      "outputs": [
        {
          "output_type": "execute_result",
          "data": {
            "text/plain": [
              "Ks_2sampResult(statistic=0.028, pvalue=0.4132324404768168)"
            ]
          },
          "metadata": {
            "tags": []
          },
          "execution_count": 43
        }
      ]
    },
    {
      "cell_type": "markdown",
      "metadata": {
        "id": "9bzChtid5dU3"
      },
      "source": [
        "Sampled data shown to be normally distributed"
      ]
    },
    {
      "cell_type": "markdown",
      "metadata": {
        "id": "4k-TWGY_TZAH"
      },
      "source": [
        "Little Rissington vs Bedford (56.28 Miles, East)"
      ]
    },
    {
      "cell_type": "code",
      "metadata": {
        "colab": {
          "base_uri": "https://localhost:8080/"
        },
        "id": "2BosgbUWSpVj",
        "outputId": "983ce468-e517-4c18-b91f-4cbe90a78baa"
      },
      "source": [
        "sample_size = 2000\r\n",
        "Little_Rissington_sampled = np.random.choice(Radiation_Little_Rissington, sample_size)\r\n",
        "Bedford_sampled = np.random.choice(Radiation_Bedford, sample_size)\r\n",
        "compare_2_groups(Little_Rissington_sampled, Bedford_sampled, 0.05, sample_size)"
      ],
      "execution_count": 44,
      "outputs": [
        {
          "output_type": "stream",
          "text": [
            "Statistics=-1.996, p=0.046\n",
            "Different distributions (reject H0)\n"
          ],
          "name": "stdout"
        }
      ]
    },
    {
      "cell_type": "code",
      "metadata": {
        "colab": {
          "base_uri": "https://localhost:8080/"
        },
        "id": "-aT7c7HC6NE-",
        "outputId": "4a3f8495-a6f5-4777-de59-e128c46967dd"
      },
      "source": [
        "ks_2samp(Little_Rissington_sampled,Bedford_sampled)"
      ],
      "execution_count": 45,
      "outputs": [
        {
          "output_type": "execute_result",
          "data": {
            "text/plain": [
              "Ks_2sampResult(statistic=0.0395, pvalue=0.08825990831879754)"
            ]
          },
          "metadata": {
            "tags": []
          },
          "execution_count": 45
        }
      ]
    },
    {
      "cell_type": "markdown",
      "metadata": {
        "id": "XnPsvHvLW0t-"
      },
      "source": [
        "Little Rissigton vs Waddington (102.04 Miles, North-East)"
      ]
    },
    {
      "cell_type": "code",
      "metadata": {
        "colab": {
          "base_uri": "https://localhost:8080/"
        },
        "id": "D1lMhux6Tnsh",
        "outputId": "d5e5094e-bab4-4908-90fe-8ee6fcf89f39"
      },
      "source": [
        "sample_size = 2000\r\n",
        "Little_Rissington_sampled = np.random.choice(Radiation_Little_Rissington, sample_size)\r\n",
        "Waddington_sampled = np.random.choice(Radiation_Waddington, sample_size)\r\n",
        "compare_2_groups(Little_Rissington_sampled, Waddington_sampled, 0.05, sample_size)"
      ],
      "execution_count": 46,
      "outputs": [
        {
          "output_type": "stream",
          "text": [
            "Statistics=2.331, p=0.020\n",
            "Different distributions (reject H0)\n"
          ],
          "name": "stdout"
        }
      ]
    },
    {
      "cell_type": "code",
      "metadata": {
        "colab": {
          "base_uri": "https://localhost:8080/"
        },
        "id": "eqIImav56pNb",
        "outputId": "cd389e55-6139-4d87-849b-47cd37ff51e6"
      },
      "source": [
        "ks_2samp(Little_Rissington_sampled,Waddington_sampled)"
      ],
      "execution_count": 47,
      "outputs": [
        {
          "output_type": "execute_result",
          "data": {
            "text/plain": [
              "Ks_2sampResult(statistic=0.0415, pvalue=0.06383123566557118)"
            ]
          },
          "metadata": {
            "tags": []
          },
          "execution_count": 47
        }
      ]
    },
    {
      "cell_type": "markdown",
      "metadata": {
        "id": "8qH5UiUVaVaa"
      },
      "source": [
        "Little Rissigton vs Wittering (74.31 Miles, East)"
      ]
    },
    {
      "cell_type": "code",
      "metadata": {
        "colab": {
          "base_uri": "https://localhost:8080/"
        },
        "id": "6xkL5PfoXCc-",
        "outputId": "f5037f23-c1b5-4d06-9f5d-85559fdf4b88"
      },
      "source": [
        "sample_size = 2000\r\n",
        "Little_Rissington_sampled = np.random.choice(Radiation_Little_Rissington, sample_size)\r\n",
        "Wittering_sampled = np.random.choice(Radiation_Wittering, sample_size)\r\n",
        "compare_2_groups(Little_Rissington_sampled, Wittering_sampled, 0.05, sample_size)"
      ],
      "execution_count": 48,
      "outputs": [
        {
          "output_type": "stream",
          "text": [
            "Statistics=0.437, p=0.662\n",
            "Same distributions (fail to reject H0)\n"
          ],
          "name": "stdout"
        }
      ]
    },
    {
      "cell_type": "code",
      "metadata": {
        "colab": {
          "base_uri": "https://localhost:8080/"
        },
        "id": "3vSiUOM36vlm",
        "outputId": "3a8dd3a0-0d91-443e-da0a-0d451479f41e"
      },
      "source": [
        "ks_2samp(Little_Rissington_sampled,Wittering_sampled)"
      ],
      "execution_count": 49,
      "outputs": [
        {
          "output_type": "execute_result",
          "data": {
            "text/plain": [
              "Ks_2sampResult(statistic=0.0315, pvalue=0.274233348575873)"
            ]
          },
          "metadata": {
            "tags": []
          },
          "execution_count": 49
        }
      ]
    },
    {
      "cell_type": "markdown",
      "metadata": {
        "id": "2YDu-9dKbYT2"
      },
      "source": [
        "Little Rissington vs Nottingham (78.40 Miles, North)"
      ]
    },
    {
      "cell_type": "code",
      "metadata": {
        "colab": {
          "base_uri": "https://localhost:8080/"
        },
        "id": "8cAfgAdNagkO",
        "outputId": "63fc08a0-484d-4932-8c5a-1aec0a700c5f"
      },
      "source": [
        "sample_size = 2000\r\n",
        "Little_Rissington_sampled = np.random.choice(Radiation_Little_Rissington, sample_size)\r\n",
        "Nottingham_sampled = np.random.choice(Radiation_Nottingham, sample_size)\r\n",
        "compare_2_groups(Little_Rissington_sampled, Nottingham_sampled, 0.05, sample_size)"
      ],
      "execution_count": 50,
      "outputs": [
        {
          "output_type": "stream",
          "text": [
            "Statistics=1.374, p=0.170\n",
            "Same distributions (fail to reject H0)\n"
          ],
          "name": "stdout"
        }
      ]
    },
    {
      "cell_type": "code",
      "metadata": {
        "colab": {
          "base_uri": "https://localhost:8080/"
        },
        "id": "t3fH_Ezh60nB",
        "outputId": "e39f7bf2-4a2f-4f04-c37e-fd4fb219544b"
      },
      "source": [
        "ks_2samp(Little_Rissington_sampled,Nottingham_sampled)"
      ],
      "execution_count": 51,
      "outputs": [
        {
          "output_type": "execute_result",
          "data": {
            "text/plain": [
              "Ks_2sampResult(statistic=0.033, pvalue=0.22624166055654427)"
            ]
          },
          "metadata": {
            "tags": []
          },
          "execution_count": 51
        }
      ]
    },
    {
      "cell_type": "markdown",
      "metadata": {
        "id": "M2Ye-kbjd7HN"
      },
      "source": [
        "Little Rissington vs Sutton (74.68 Miles, North)"
      ]
    },
    {
      "cell_type": "code",
      "metadata": {
        "colab": {
          "base_uri": "https://localhost:8080/"
        },
        "id": "kALD7B_vbk9Q",
        "outputId": "738c0d5e-2d23-41ad-ab4c-9e59935ff3fb"
      },
      "source": [
        "sample_size = 2000\r\n",
        "Little_Rissington_sampled = np.random.choice(Radiation_Little_Rissington, sample_size)\r\n",
        "Sutton_sampled = np.random.choice(Radiation_Sutton, sample_size)\r\n",
        "compare_2_groups(Little_Rissington_sampled, Sutton_sampled, 0.05, sample_size)"
      ],
      "execution_count": 52,
      "outputs": [
        {
          "output_type": "stream",
          "text": [
            "Statistics=-0.662, p=0.508\n",
            "Same distributions (fail to reject H0)\n"
          ],
          "name": "stdout"
        }
      ]
    },
    {
      "cell_type": "code",
      "metadata": {
        "colab": {
          "base_uri": "https://localhost:8080/"
        },
        "id": "Ih-o0_GA66nE",
        "outputId": "bb4db17d-cbe7-48d0-d306-8fc3ccdd3e29"
      },
      "source": [
        "ks_2samp(Little_Rissington_sampled,Sutton_sampled)"
      ],
      "execution_count": 53,
      "outputs": [
        {
          "output_type": "execute_result",
          "data": {
            "text/plain": [
              "Ks_2sampResult(statistic=0.038, pvalue=0.11135887905231429)"
            ]
          },
          "metadata": {
            "tags": []
          },
          "execution_count": 53
        }
      ]
    },
    {
      "cell_type": "markdown",
      "metadata": {
        "id": "xs0H4iyAfgrh"
      },
      "source": [
        "Little Rissington vs Church_lawford (38.58 Miles, North)"
      ]
    },
    {
      "cell_type": "code",
      "metadata": {
        "colab": {
          "base_uri": "https://localhost:8080/"
        },
        "id": "0FRxPSXMeEmd",
        "outputId": "da6b0cea-657b-4047-c8a1-5c30964955b9"
      },
      "source": [
        "sample_size = 2000\r\n",
        "Little_Rissington_sampled = np.random.choice(Radiation_Little_Rissington, sample_size)\r\n",
        "Church_lawford_sampled = np.random.choice(Radiation_Church_lawford, sample_size)\r\n",
        "compare_2_groups(Little_Rissington_sampled, Church_lawford_sampled, 0.05, sample_size)"
      ],
      "execution_count": 54,
      "outputs": [
        {
          "output_type": "stream",
          "text": [
            "Statistics=1.901, p=0.057\n",
            "Same distributions (fail to reject H0)\n"
          ],
          "name": "stdout"
        }
      ]
    },
    {
      "cell_type": "code",
      "metadata": {
        "colab": {
          "base_uri": "https://localhost:8080/"
        },
        "id": "Oh63FgRm7Dlz",
        "outputId": "4bc3dd8a-9990-4bc2-f3fc-b10b7f716dfc"
      },
      "source": [
        "ks_2samp(Little_Rissington_sampled,Church_lawford_sampled)"
      ],
      "execution_count": 55,
      "outputs": [
        {
          "output_type": "execute_result",
          "data": {
            "text/plain": [
              "Ks_2sampResult(statistic=0.0325, pvalue=0.24148215150724364)"
            ]
          },
          "metadata": {
            "tags": []
          },
          "execution_count": 55
        }
      ]
    },
    {
      "cell_type": "markdown",
      "metadata": {
        "id": "YLESDls0g7YP"
      },
      "source": [
        "Little Rissington vs Coventry (37.77 Miles, North)"
      ]
    },
    {
      "cell_type": "code",
      "metadata": {
        "colab": {
          "base_uri": "https://localhost:8080/"
        },
        "id": "FSzC6_Dmftzp",
        "outputId": "e15b3e5a-0cfc-4aa7-f953-aee06ece90d9"
      },
      "source": [
        "sample_size = 2000\r\n",
        "Little_Rissington_sampled = np.random.choice(Radiation_Little_Rissington, sample_size)\r\n",
        "Coventry_sampled = np.random.choice(Radiation_Coventry, sample_size)\r\n",
        "compare_2_groups(Little_Rissington_sampled, Coventry_sampled, 0.05, sample_size)"
      ],
      "execution_count": 56,
      "outputs": [
        {
          "output_type": "stream",
          "text": [
            "Statistics=1.096, p=0.273\n",
            "Same distributions (fail to reject H0)\n"
          ],
          "name": "stdout"
        }
      ]
    },
    {
      "cell_type": "code",
      "metadata": {
        "colab": {
          "base_uri": "https://localhost:8080/"
        },
        "id": "BKlJYVzE7H5q",
        "outputId": "8ef9a364-cfc8-4e7a-80d2-5941682a0bff"
      },
      "source": [
        "ks_2samp(Little_Rissington_sampled,Coventry_sampled)"
      ],
      "execution_count": 57,
      "outputs": [
        {
          "output_type": "execute_result",
          "data": {
            "text/plain": [
              "Ks_2sampResult(statistic=0.039, pvalue=0.0954673206906231)"
            ]
          },
          "metadata": {
            "tags": []
          },
          "execution_count": 57
        }
      ]
    },
    {
      "cell_type": "markdown",
      "metadata": {
        "id": "ZbVTMgwXhrPj"
      },
      "source": [
        "Little Rissington vs Coleshill (42.24 Miles, North)"
      ]
    },
    {
      "cell_type": "code",
      "metadata": {
        "colab": {
          "base_uri": "https://localhost:8080/"
        },
        "id": "ag6OS25shENt",
        "outputId": "c0aa5c54-f3ae-4a5d-c9b6-97a5744e3fc4"
      },
      "source": [
        "sample_size = 2000\r\n",
        "Little_Rissington_sampled = np.random.choice(Radiation_Little_Rissington, sample_size)\r\n",
        "Coleshill_sampled = np.random.choice(Radiation_Coleshill, sample_size)\r\n",
        "compare_2_groups(Little_Rissington_sampled, Coleshill_sampled, 0.05, sample_size)"
      ],
      "execution_count": 58,
      "outputs": [
        {
          "output_type": "stream",
          "text": [
            "Statistics=0.844, p=0.399\n",
            "Same distributions (fail to reject H0)\n"
          ],
          "name": "stdout"
        }
      ]
    },
    {
      "cell_type": "code",
      "metadata": {
        "colab": {
          "base_uri": "https://localhost:8080/"
        },
        "id": "nR0rfFda7MS6",
        "outputId": "ef1ee14c-fd90-45c9-dad1-22bca0ac4f96"
      },
      "source": [
        "ks_2samp(Little_Rissington_sampled,Coleshill_sampled)"
      ],
      "execution_count": 59,
      "outputs": [
        {
          "output_type": "execute_result",
          "data": {
            "text/plain": [
              "Ks_2sampResult(statistic=0.027, pvalue=0.4596372544037147)"
            ]
          },
          "metadata": {
            "tags": []
          },
          "execution_count": 59
        }
      ]
    },
    {
      "cell_type": "code",
      "metadata": {
        "id": "vMKKbfpKhz5B"
      },
      "source": [
        ""
      ],
      "execution_count": null,
      "outputs": []
    }
  ]
}