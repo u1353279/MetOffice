{
  "nbformat": 4,
  "nbformat_minor": 0,
  "metadata": {
    "colab": {
      "name": "Forecasting_mean comparison.ipynb",
      "provenance": [],
      "collapsed_sections": [],
      "mount_file_id": "https://github.com/u1353279/MetOffice/blob/main/FBprohetforecasting.ipynb",
      "authorship_tag": "ABX9TyPq+U1QL4Rp2I+3YUwOb+N1",
      "include_colab_link": true
    },
    "kernelspec": {
      "name": "python3",
      "display_name": "Python 3"
    }
  },
  "cells": [
    {
      "cell_type": "markdown",
      "metadata": {
        "id": "view-in-github",
        "colab_type": "text"
      },
      "source": [
        "<a href=\"https://colab.research.google.com/github/u1353279/MetOffice/blob/main/Forecasting_mean_comparison.ipynb\" target=\"_parent\"><img src=\"https://colab.research.google.com/assets/colab-badge.svg\" alt=\"Open In Colab\"/></a>"
      ]
    },
    {
      "cell_type": "markdown",
      "metadata": {
        "id": "Dj5z1AXwuzHL"
      },
      "source": [
        "***Little Rissington***\n",
        "\n",
        "\n",
        "\n",
        "Data Analysis"
      ]
    },
    {
      "cell_type": "code",
      "metadata": {
        "id": "vNvmvy5immd6"
      },
      "source": [
        "import pandas as pd\n",
        "import numpy as np\n",
        "\n",
        "# stats\n",
        "from statsmodels.tsa.seasonal import seasonal_decompose\n",
        "from statsmodels.graphics.tsaplots import plot_acf, plot_pacf\n",
        "\n",
        "# plotting\n",
        "import seaborn as sns \n",
        "import plotly.express as px\n",
        "import matplotlib.pyplot as plt\n",
        "\n",
        "# settings\n",
        "plt.style.use('seaborn')\n",
        "plt.rcParams[\"figure.figsize\"] = (16, 8)"
      ],
      "execution_count": null,
      "outputs": []
    },
    {
      "cell_type": "code",
      "metadata": {
        "id": "8VpFStWsm7he"
      },
      "source": [
        "df=pd.read_excel('/content/drive/MyDrive/PHD/little_rissington.xlsx')"
      ],
      "execution_count": null,
      "outputs": []
    },
    {
      "cell_type": "code",
      "metadata": {
        "colab": {
          "base_uri": "https://localhost:8080/",
          "height": 246
        },
        "id": "yPM9cTrLnE5X",
        "outputId": "b3f2700c-c4ea-4a9a-df16-cf17d6eb9849"
      },
      "source": [
        "df.head()"
      ],
      "execution_count": null,
      "outputs": [
        {
          "output_type": "execute_result",
          "data": {
            "text/html": [
              "<div>\n",
              "<style scoped>\n",
              "    .dataframe tbody tr th:only-of-type {\n",
              "        vertical-align: middle;\n",
              "    }\n",
              "\n",
              "    .dataframe tbody tr th {\n",
              "        vertical-align: top;\n",
              "    }\n",
              "\n",
              "    .dataframe thead th {\n",
              "        text-align: right;\n",
              "    }\n",
              "</style>\n",
              "<table border=\"1\" class=\"dataframe\">\n",
              "  <thead>\n",
              "    <tr style=\"text-align: right;\">\n",
              "      <th></th>\n",
              "      <th>Date</th>\n",
              "      <th>Daily Maximum Temperature (0900-0900) (°C)</th>\n",
              "      <th>Daily Minimum Temperature (0900-0900) (°C)</th>\n",
              "      <th>Daily Mean Temperature (0900-0900) (°C)</th>\n",
              "      <th>Daily Total Rainfall (0900-0900)(mm)</th>\n",
              "      <th>Daily Mean Windspeed (0100-2400) (kn)</th>\n",
              "      <th>Daily Maximum Gust (0100-2400) (kn)</th>\n",
              "      <th>Daily Total Global Radiation (KJ/m2)</th>\n",
              "    </tr>\n",
              "  </thead>\n",
              "  <tbody>\n",
              "    <tr>\n",
              "      <th>0</th>\n",
              "      <td>01/01/2010</td>\n",
              "      <td>0.3</td>\n",
              "      <td>-3.5</td>\n",
              "      <td>-1.60</td>\n",
              "      <td>0.0</td>\n",
              "      <td>10.0</td>\n",
              "      <td>19.0</td>\n",
              "      <td>5425.0</td>\n",
              "    </tr>\n",
              "    <tr>\n",
              "      <th>1</th>\n",
              "      <td>02/01/2010</td>\n",
              "      <td>3.9</td>\n",
              "      <td>-3.3</td>\n",
              "      <td>0.30</td>\n",
              "      <td>0.0</td>\n",
              "      <td>8.0</td>\n",
              "      <td>18.0</td>\n",
              "      <td>4761.0</td>\n",
              "    </tr>\n",
              "    <tr>\n",
              "      <th>2</th>\n",
              "      <td>03/01/2010</td>\n",
              "      <td>0.9</td>\n",
              "      <td>-2.0</td>\n",
              "      <td>-0.55</td>\n",
              "      <td>0.0</td>\n",
              "      <td>9.0</td>\n",
              "      <td>19.0</td>\n",
              "      <td>5416.0</td>\n",
              "    </tr>\n",
              "    <tr>\n",
              "      <th>3</th>\n",
              "      <td>04/01/2010</td>\n",
              "      <td>0.2</td>\n",
              "      <td>-7.7</td>\n",
              "      <td>-3.75</td>\n",
              "      <td>0.2</td>\n",
              "      <td>6.0</td>\n",
              "      <td>10.0</td>\n",
              "      <td>6301.0</td>\n",
              "    </tr>\n",
              "    <tr>\n",
              "      <th>4</th>\n",
              "      <td>05/01/2010</td>\n",
              "      <td>-0.1</td>\n",
              "      <td>-6.4</td>\n",
              "      <td>-3.25</td>\n",
              "      <td>8.0</td>\n",
              "      <td>7.0</td>\n",
              "      <td>15.0</td>\n",
              "      <td>2318.0</td>\n",
              "    </tr>\n",
              "  </tbody>\n",
              "</table>\n",
              "</div>"
            ],
            "text/plain": [
              "         Date  ...  Daily Total Global Radiation (KJ/m2)\n",
              "0  01/01/2010  ...                                5425.0\n",
              "1  02/01/2010  ...                                4761.0\n",
              "2  03/01/2010  ...                                5416.0\n",
              "3  04/01/2010  ...                                6301.0\n",
              "4  05/01/2010  ...                                2318.0\n",
              "\n",
              "[5 rows x 8 columns]"
            ]
          },
          "metadata": {
            "tags": []
          },
          "execution_count": 4
        }
      ]
    },
    {
      "cell_type": "code",
      "metadata": {
        "id": "f5l1B46o_Bbs"
      },
      "source": [
        "df['Date'] = pd.to_datetime(df['Date'], format='%d/%m/%Y')"
      ],
      "execution_count": null,
      "outputs": []
    },
    {
      "cell_type": "code",
      "metadata": {
        "id": "r6YmtMUEgN4u"
      },
      "source": [
        "df.rename(columns={'Daily Maximum Temperature (0900-0900) (°C)': 'Max Temp',\n",
        "                   'Daily Minimum Temperature (0900-0900) (°C)': 'Min Temp',\n",
        "                  'Daily Mean Temperature (0900-0900) (°C)': 'Mean Temp',\n",
        "          'Daily Total Rainfall (0900-0900)(mm)': 'Rainfall(mm)',\n",
        "          'Daily Mean Windspeed (0100-2400) (kn)': 'Windspeed(kn)',\n",
        "          'Daily Maximum Gust (0100-2400) (kn)': 'Max Gust(kn)',\n",
        "          'Daily Total Global Radiation (KJ/m2)': 'Radiation(KJ/m2)'},\n",
        "          inplace=True)"
      ],
      "execution_count": null,
      "outputs": []
    },
    {
      "cell_type": "code",
      "metadata": {
        "colab": {
          "base_uri": "https://localhost:8080/"
        },
        "id": "uaFioNaYWMCy",
        "outputId": "312e5a7a-9e2c-411d-b406-70a6c728f6cf"
      },
      "source": [
        "df.isnull().sum()"
      ],
      "execution_count": null,
      "outputs": [
        {
          "output_type": "execute_result",
          "data": {
            "text/plain": [
              "Date                 0\n",
              "Max Temp            17\n",
              "Min Temp            17\n",
              "Mean Temp           21\n",
              "Rainfall(mm)         0\n",
              "Windspeed(kn)       31\n",
              "Max Gust(kn)        31\n",
              "Radiation(KJ/m2)    34\n",
              "dtype: int64"
            ]
          },
          "metadata": {
            "tags": []
          },
          "execution_count": 7
        }
      ]
    },
    {
      "cell_type": "code",
      "metadata": {
        "colab": {
          "base_uri": "https://localhost:8080/",
          "height": 550
        },
        "id": "q8jH-i9AXJfy",
        "outputId": "5b2e7157-8270-44d4-b5ed-9b21a57d807a"
      },
      "source": [
        "# only show the missing values\n",
        "df[df.filter(like='Max Temp').isnull().any(1)]"
      ],
      "execution_count": null,
      "outputs": [
        {
          "output_type": "execute_result",
          "data": {
            "text/html": [
              "<div>\n",
              "<style scoped>\n",
              "    .dataframe tbody tr th:only-of-type {\n",
              "        vertical-align: middle;\n",
              "    }\n",
              "\n",
              "    .dataframe tbody tr th {\n",
              "        vertical-align: top;\n",
              "    }\n",
              "\n",
              "    .dataframe thead th {\n",
              "        text-align: right;\n",
              "    }\n",
              "</style>\n",
              "<table border=\"1\" class=\"dataframe\">\n",
              "  <thead>\n",
              "    <tr style=\"text-align: right;\">\n",
              "      <th></th>\n",
              "      <th>Date</th>\n",
              "      <th>Max Temp</th>\n",
              "      <th>Min Temp</th>\n",
              "      <th>Mean Temp</th>\n",
              "      <th>Rainfall(mm)</th>\n",
              "      <th>Windspeed(kn)</th>\n",
              "      <th>Max Gust(kn)</th>\n",
              "      <th>Radiation(KJ/m2)</th>\n",
              "    </tr>\n",
              "  </thead>\n",
              "  <tbody>\n",
              "    <tr>\n",
              "      <th>2478</th>\n",
              "      <td>2016-10-14</td>\n",
              "      <td>NaN</td>\n",
              "      <td>6.7</td>\n",
              "      <td>NaN</td>\n",
              "      <td>0.0</td>\n",
              "      <td>NaN</td>\n",
              "      <td>NaN</td>\n",
              "      <td>NaN</td>\n",
              "    </tr>\n",
              "    <tr>\n",
              "      <th>2479</th>\n",
              "      <td>2016-10-15</td>\n",
              "      <td>NaN</td>\n",
              "      <td>NaN</td>\n",
              "      <td>NaN</td>\n",
              "      <td>9.6</td>\n",
              "      <td>NaN</td>\n",
              "      <td>NaN</td>\n",
              "      <td>NaN</td>\n",
              "    </tr>\n",
              "    <tr>\n",
              "      <th>2480</th>\n",
              "      <td>2016-10-16</td>\n",
              "      <td>NaN</td>\n",
              "      <td>NaN</td>\n",
              "      <td>NaN</td>\n",
              "      <td>0.2</td>\n",
              "      <td>NaN</td>\n",
              "      <td>NaN</td>\n",
              "      <td>NaN</td>\n",
              "    </tr>\n",
              "    <tr>\n",
              "      <th>2481</th>\n",
              "      <td>2016-10-17</td>\n",
              "      <td>NaN</td>\n",
              "      <td>NaN</td>\n",
              "      <td>NaN</td>\n",
              "      <td>1.6</td>\n",
              "      <td>NaN</td>\n",
              "      <td>NaN</td>\n",
              "      <td>NaN</td>\n",
              "    </tr>\n",
              "    <tr>\n",
              "      <th>2482</th>\n",
              "      <td>2016-10-18</td>\n",
              "      <td>NaN</td>\n",
              "      <td>NaN</td>\n",
              "      <td>NaN</td>\n",
              "      <td>0.0</td>\n",
              "      <td>NaN</td>\n",
              "      <td>NaN</td>\n",
              "      <td>NaN</td>\n",
              "    </tr>\n",
              "    <tr>\n",
              "      <th>2483</th>\n",
              "      <td>2016-10-19</td>\n",
              "      <td>NaN</td>\n",
              "      <td>NaN</td>\n",
              "      <td>NaN</td>\n",
              "      <td>0.0</td>\n",
              "      <td>NaN</td>\n",
              "      <td>NaN</td>\n",
              "      <td>NaN</td>\n",
              "    </tr>\n",
              "    <tr>\n",
              "      <th>3500</th>\n",
              "      <td>2019-08-02</td>\n",
              "      <td>NaN</td>\n",
              "      <td>13.8</td>\n",
              "      <td>NaN</td>\n",
              "      <td>0.0</td>\n",
              "      <td>NaN</td>\n",
              "      <td>NaN</td>\n",
              "      <td>NaN</td>\n",
              "    </tr>\n",
              "    <tr>\n",
              "      <th>3501</th>\n",
              "      <td>2019-08-03</td>\n",
              "      <td>NaN</td>\n",
              "      <td>NaN</td>\n",
              "      <td>NaN</td>\n",
              "      <td>0.0</td>\n",
              "      <td>NaN</td>\n",
              "      <td>NaN</td>\n",
              "      <td>NaN</td>\n",
              "    </tr>\n",
              "    <tr>\n",
              "      <th>3502</th>\n",
              "      <td>2019-08-04</td>\n",
              "      <td>NaN</td>\n",
              "      <td>NaN</td>\n",
              "      <td>NaN</td>\n",
              "      <td>0.6</td>\n",
              "      <td>NaN</td>\n",
              "      <td>NaN</td>\n",
              "      <td>NaN</td>\n",
              "    </tr>\n",
              "    <tr>\n",
              "      <th>3503</th>\n",
              "      <td>2019-08-05</td>\n",
              "      <td>NaN</td>\n",
              "      <td>NaN</td>\n",
              "      <td>NaN</td>\n",
              "      <td>0.0</td>\n",
              "      <td>NaN</td>\n",
              "      <td>NaN</td>\n",
              "      <td>NaN</td>\n",
              "    </tr>\n",
              "    <tr>\n",
              "      <th>3504</th>\n",
              "      <td>2019-08-06</td>\n",
              "      <td>NaN</td>\n",
              "      <td>NaN</td>\n",
              "      <td>NaN</td>\n",
              "      <td>3.5</td>\n",
              "      <td>NaN</td>\n",
              "      <td>NaN</td>\n",
              "      <td>NaN</td>\n",
              "    </tr>\n",
              "    <tr>\n",
              "      <th>3522</th>\n",
              "      <td>2019-08-24</td>\n",
              "      <td>NaN</td>\n",
              "      <td>10.8</td>\n",
              "      <td>NaN</td>\n",
              "      <td>0.0</td>\n",
              "      <td>NaN</td>\n",
              "      <td>NaN</td>\n",
              "      <td>NaN</td>\n",
              "    </tr>\n",
              "    <tr>\n",
              "      <th>3523</th>\n",
              "      <td>2019-08-25</td>\n",
              "      <td>NaN</td>\n",
              "      <td>NaN</td>\n",
              "      <td>NaN</td>\n",
              "      <td>0.0</td>\n",
              "      <td>NaN</td>\n",
              "      <td>NaN</td>\n",
              "      <td>NaN</td>\n",
              "    </tr>\n",
              "    <tr>\n",
              "      <th>3524</th>\n",
              "      <td>2019-08-26</td>\n",
              "      <td>NaN</td>\n",
              "      <td>NaN</td>\n",
              "      <td>NaN</td>\n",
              "      <td>0.0</td>\n",
              "      <td>NaN</td>\n",
              "      <td>NaN</td>\n",
              "      <td>NaN</td>\n",
              "    </tr>\n",
              "    <tr>\n",
              "      <th>3525</th>\n",
              "      <td>2019-08-27</td>\n",
              "      <td>NaN</td>\n",
              "      <td>NaN</td>\n",
              "      <td>NaN</td>\n",
              "      <td>2.0</td>\n",
              "      <td>NaN</td>\n",
              "      <td>NaN</td>\n",
              "      <td>NaN</td>\n",
              "    </tr>\n",
              "    <tr>\n",
              "      <th>3536</th>\n",
              "      <td>2019-09-07</td>\n",
              "      <td>NaN</td>\n",
              "      <td>7.5</td>\n",
              "      <td>NaN</td>\n",
              "      <td>0.0</td>\n",
              "      <td>9.0</td>\n",
              "      <td>20.0</td>\n",
              "      <td>NaN</td>\n",
              "    </tr>\n",
              "    <tr>\n",
              "      <th>3537</th>\n",
              "      <td>2019-09-08</td>\n",
              "      <td>NaN</td>\n",
              "      <td>NaN</td>\n",
              "      <td>NaN</td>\n",
              "      <td>0.0</td>\n",
              "      <td>NaN</td>\n",
              "      <td>NaN</td>\n",
              "      <td>NaN</td>\n",
              "    </tr>\n",
              "  </tbody>\n",
              "</table>\n",
              "</div>"
            ],
            "text/plain": [
              "           Date  Max Temp  ...  Max Gust(kn)  Radiation(KJ/m2)\n",
              "2478 2016-10-14       NaN  ...           NaN               NaN\n",
              "2479 2016-10-15       NaN  ...           NaN               NaN\n",
              "2480 2016-10-16       NaN  ...           NaN               NaN\n",
              "2481 2016-10-17       NaN  ...           NaN               NaN\n",
              "2482 2016-10-18       NaN  ...           NaN               NaN\n",
              "2483 2016-10-19       NaN  ...           NaN               NaN\n",
              "3500 2019-08-02       NaN  ...           NaN               NaN\n",
              "3501 2019-08-03       NaN  ...           NaN               NaN\n",
              "3502 2019-08-04       NaN  ...           NaN               NaN\n",
              "3503 2019-08-05       NaN  ...           NaN               NaN\n",
              "3504 2019-08-06       NaN  ...           NaN               NaN\n",
              "3522 2019-08-24       NaN  ...           NaN               NaN\n",
              "3523 2019-08-25       NaN  ...           NaN               NaN\n",
              "3524 2019-08-26       NaN  ...           NaN               NaN\n",
              "3525 2019-08-27       NaN  ...           NaN               NaN\n",
              "3536 2019-09-07       NaN  ...          20.0               NaN\n",
              "3537 2019-09-08       NaN  ...           NaN               NaN\n",
              "\n",
              "[17 rows x 8 columns]"
            ]
          },
          "metadata": {
            "tags": []
          },
          "execution_count": 8
        }
      ]
    },
    {
      "cell_type": "code",
      "metadata": {
        "colab": {
          "base_uri": "https://localhost:8080/",
          "height": 402
        },
        "id": "VFtu9Ta_XJp_",
        "outputId": "1b5fcf92-97a0-434e-ce2a-b027ce5c455b"
      },
      "source": [
        "#propogate the last valid observation forward\n",
        "df.ffill()"
      ],
      "execution_count": null,
      "outputs": [
        {
          "output_type": "execute_result",
          "data": {
            "text/html": [
              "<div>\n",
              "<style scoped>\n",
              "    .dataframe tbody tr th:only-of-type {\n",
              "        vertical-align: middle;\n",
              "    }\n",
              "\n",
              "    .dataframe tbody tr th {\n",
              "        vertical-align: top;\n",
              "    }\n",
              "\n",
              "    .dataframe thead th {\n",
              "        text-align: right;\n",
              "    }\n",
              "</style>\n",
              "<table border=\"1\" class=\"dataframe\">\n",
              "  <thead>\n",
              "    <tr style=\"text-align: right;\">\n",
              "      <th></th>\n",
              "      <th>Date</th>\n",
              "      <th>Max Temp</th>\n",
              "      <th>Min Temp</th>\n",
              "      <th>Mean Temp</th>\n",
              "      <th>Rainfall(mm)</th>\n",
              "      <th>Windspeed(kn)</th>\n",
              "      <th>Max Gust(kn)</th>\n",
              "      <th>Radiation(KJ/m2)</th>\n",
              "    </tr>\n",
              "  </thead>\n",
              "  <tbody>\n",
              "    <tr>\n",
              "      <th>0</th>\n",
              "      <td>2010-01-01</td>\n",
              "      <td>0.3</td>\n",
              "      <td>-3.5</td>\n",
              "      <td>-1.60</td>\n",
              "      <td>0.0</td>\n",
              "      <td>10.0</td>\n",
              "      <td>19.0</td>\n",
              "      <td>5425.0</td>\n",
              "    </tr>\n",
              "    <tr>\n",
              "      <th>1</th>\n",
              "      <td>2010-01-02</td>\n",
              "      <td>3.9</td>\n",
              "      <td>-3.3</td>\n",
              "      <td>0.30</td>\n",
              "      <td>0.0</td>\n",
              "      <td>8.0</td>\n",
              "      <td>18.0</td>\n",
              "      <td>4761.0</td>\n",
              "    </tr>\n",
              "    <tr>\n",
              "      <th>2</th>\n",
              "      <td>2010-01-03</td>\n",
              "      <td>0.9</td>\n",
              "      <td>-2.0</td>\n",
              "      <td>-0.55</td>\n",
              "      <td>0.0</td>\n",
              "      <td>9.0</td>\n",
              "      <td>19.0</td>\n",
              "      <td>5416.0</td>\n",
              "    </tr>\n",
              "    <tr>\n",
              "      <th>3</th>\n",
              "      <td>2010-01-04</td>\n",
              "      <td>0.2</td>\n",
              "      <td>-7.7</td>\n",
              "      <td>-3.75</td>\n",
              "      <td>0.2</td>\n",
              "      <td>6.0</td>\n",
              "      <td>10.0</td>\n",
              "      <td>6301.0</td>\n",
              "    </tr>\n",
              "    <tr>\n",
              "      <th>4</th>\n",
              "      <td>2010-01-05</td>\n",
              "      <td>-0.1</td>\n",
              "      <td>-6.4</td>\n",
              "      <td>-3.25</td>\n",
              "      <td>8.0</td>\n",
              "      <td>7.0</td>\n",
              "      <td>15.0</td>\n",
              "      <td>2318.0</td>\n",
              "    </tr>\n",
              "    <tr>\n",
              "      <th>...</th>\n",
              "      <td>...</td>\n",
              "      <td>...</td>\n",
              "      <td>...</td>\n",
              "      <td>...</td>\n",
              "      <td>...</td>\n",
              "      <td>...</td>\n",
              "      <td>...</td>\n",
              "      <td>...</td>\n",
              "    </tr>\n",
              "    <tr>\n",
              "      <th>3647</th>\n",
              "      <td>2019-12-27</td>\n",
              "      <td>7.5</td>\n",
              "      <td>2.9</td>\n",
              "      <td>5.20</td>\n",
              "      <td>0.4</td>\n",
              "      <td>6.0</td>\n",
              "      <td>15.0</td>\n",
              "      <td>1348.0</td>\n",
              "    </tr>\n",
              "    <tr>\n",
              "      <th>3648</th>\n",
              "      <td>2019-12-28</td>\n",
              "      <td>8.5</td>\n",
              "      <td>4.7</td>\n",
              "      <td>6.60</td>\n",
              "      <td>0.0</td>\n",
              "      <td>10.0</td>\n",
              "      <td>20.0</td>\n",
              "      <td>1285.0</td>\n",
              "    </tr>\n",
              "    <tr>\n",
              "      <th>3649</th>\n",
              "      <td>2019-12-29</td>\n",
              "      <td>6.9</td>\n",
              "      <td>5.5</td>\n",
              "      <td>6.20</td>\n",
              "      <td>0.0</td>\n",
              "      <td>13.0</td>\n",
              "      <td>23.0</td>\n",
              "      <td>1651.0</td>\n",
              "    </tr>\n",
              "    <tr>\n",
              "      <th>3650</th>\n",
              "      <td>2019-12-30</td>\n",
              "      <td>7.6</td>\n",
              "      <td>4.1</td>\n",
              "      <td>5.85</td>\n",
              "      <td>0.0</td>\n",
              "      <td>11.0</td>\n",
              "      <td>20.0</td>\n",
              "      <td>3075.0</td>\n",
              "    </tr>\n",
              "    <tr>\n",
              "      <th>3651</th>\n",
              "      <td>2019-12-31</td>\n",
              "      <td>7.0</td>\n",
              "      <td>3.0</td>\n",
              "      <td>5.00</td>\n",
              "      <td>0.0</td>\n",
              "      <td>9.0</td>\n",
              "      <td>18.0</td>\n",
              "      <td>689.0</td>\n",
              "    </tr>\n",
              "  </tbody>\n",
              "</table>\n",
              "<p>3652 rows × 8 columns</p>\n",
              "</div>"
            ],
            "text/plain": [
              "           Date  Max Temp  ...  Max Gust(kn)  Radiation(KJ/m2)\n",
              "0    2010-01-01       0.3  ...          19.0            5425.0\n",
              "1    2010-01-02       3.9  ...          18.0            4761.0\n",
              "2    2010-01-03       0.9  ...          19.0            5416.0\n",
              "3    2010-01-04       0.2  ...          10.0            6301.0\n",
              "4    2010-01-05      -0.1  ...          15.0            2318.0\n",
              "...         ...       ...  ...           ...               ...\n",
              "3647 2019-12-27       7.5  ...          15.0            1348.0\n",
              "3648 2019-12-28       8.5  ...          20.0            1285.0\n",
              "3649 2019-12-29       6.9  ...          23.0            1651.0\n",
              "3650 2019-12-30       7.6  ...          20.0            3075.0\n",
              "3651 2019-12-31       7.0  ...          18.0             689.0\n",
              "\n",
              "[3652 rows x 8 columns]"
            ]
          },
          "metadata": {
            "tags": []
          },
          "execution_count": 9
        }
      ]
    },
    {
      "cell_type": "code",
      "metadata": {
        "id": "9uUJj2eKbHrO"
      },
      "source": [
        "df.ffill(inplace=True)"
      ],
      "execution_count": null,
      "outputs": []
    },
    {
      "cell_type": "code",
      "metadata": {
        "id": "esHa-UnNZJOB"
      },
      "source": [
        "df['month'] = df['Date'].dt.month"
      ],
      "execution_count": null,
      "outputs": []
    },
    {
      "cell_type": "code",
      "metadata": {
        "id": "HTUzwrjvcffj"
      },
      "source": [
        "df['year'] = df['Date'].dt.year"
      ],
      "execution_count": null,
      "outputs": []
    },
    {
      "cell_type": "code",
      "metadata": {
        "id": "WdBZbEiu4WxF"
      },
      "source": [
        "import pandas as pd\r\n",
        "import numpy as np\r\n",
        "import requests\r\n",
        "import pytz, datetime\r\n",
        "import matplotlib.pyplot as plt"
      ],
      "execution_count": null,
      "outputs": []
    },
    {
      "cell_type": "code",
      "metadata": {
        "id": "7qXjPMtA4dfH"
      },
      "source": [
        "%matplotlib inline\r\n",
        "plt.style.use('seaborn-darkgrid')\r\n",
        "from matplotlib import rcParams\r\n",
        "rcParams['font.family'] = 'monospace'\r\n",
        "rcParams['font.sans-serif'] = ['Lucida Console']"
      ],
      "execution_count": null,
      "outputs": []
    },
    {
      "cell_type": "code",
      "metadata": {
        "id": "Iy47qbUh4qbg"
      },
      "source": [
        "from fbprophet import Prophet\r\n",
        "from fbprophet.plot import add_changepoints_to_plot\r\n",
        "from fbprophet.diagnostics import cross_validation\r\n"
      ],
      "execution_count": null,
      "outputs": []
    },
    {
      "cell_type": "code",
      "metadata": {
        "id": "CqOfbVAD5ZHr",
        "colab": {
          "base_uri": "https://localhost:8080/",
          "height": 195
        },
        "outputId": "e57346f1-fe99-44e0-deb3-fe25c718ee6b"
      },
      "source": [
        "df_1 = pd.DataFrame() \r\n",
        "df_1['ds'] = pd.to_datetime(df['Date']) \r\n",
        "df_1['y'] = df['Radiation(KJ/m2)'] \r\n",
        "df_1.head()"
      ],
      "execution_count": null,
      "outputs": [
        {
          "output_type": "execute_result",
          "data": {
            "text/html": [
              "<div>\n",
              "<style scoped>\n",
              "    .dataframe tbody tr th:only-of-type {\n",
              "        vertical-align: middle;\n",
              "    }\n",
              "\n",
              "    .dataframe tbody tr th {\n",
              "        vertical-align: top;\n",
              "    }\n",
              "\n",
              "    .dataframe thead th {\n",
              "        text-align: right;\n",
              "    }\n",
              "</style>\n",
              "<table border=\"1\" class=\"dataframe\">\n",
              "  <thead>\n",
              "    <tr style=\"text-align: right;\">\n",
              "      <th></th>\n",
              "      <th>ds</th>\n",
              "      <th>y</th>\n",
              "    </tr>\n",
              "  </thead>\n",
              "  <tbody>\n",
              "    <tr>\n",
              "      <th>0</th>\n",
              "      <td>2010-01-01</td>\n",
              "      <td>5425.0</td>\n",
              "    </tr>\n",
              "    <tr>\n",
              "      <th>1</th>\n",
              "      <td>2010-01-02</td>\n",
              "      <td>4761.0</td>\n",
              "    </tr>\n",
              "    <tr>\n",
              "      <th>2</th>\n",
              "      <td>2010-01-03</td>\n",
              "      <td>5416.0</td>\n",
              "    </tr>\n",
              "    <tr>\n",
              "      <th>3</th>\n",
              "      <td>2010-01-04</td>\n",
              "      <td>6301.0</td>\n",
              "    </tr>\n",
              "    <tr>\n",
              "      <th>4</th>\n",
              "      <td>2010-01-05</td>\n",
              "      <td>2318.0</td>\n",
              "    </tr>\n",
              "  </tbody>\n",
              "</table>\n",
              "</div>"
            ],
            "text/plain": [
              "          ds       y\n",
              "0 2010-01-01  5425.0\n",
              "1 2010-01-02  4761.0\n",
              "2 2010-01-03  5416.0\n",
              "3 2010-01-04  6301.0\n",
              "4 2010-01-05  2318.0"
            ]
          },
          "metadata": {
            "tags": []
          },
          "execution_count": 16
        }
      ]
    },
    {
      "cell_type": "code",
      "metadata": {
        "id": "PNaO4jbs6WDz",
        "colab": {
          "base_uri": "https://localhost:8080/"
        },
        "outputId": "39593c8b-655b-43dc-a3f6-c9427d6ce6f8"
      },
      "source": [
        "m = Prophet(yearly_seasonality=True) \r\n",
        "m.fit(df_1) "
      ],
      "execution_count": null,
      "outputs": [
        {
          "output_type": "stream",
          "text": [
            "INFO:fbprophet:Disabling daily seasonality. Run prophet with daily_seasonality=True to override this.\n"
          ],
          "name": "stderr"
        },
        {
          "output_type": "execute_result",
          "data": {
            "text/plain": [
              "<fbprophet.forecaster.Prophet at 0x7f23079076d8>"
            ]
          },
          "metadata": {
            "tags": []
          },
          "execution_count": 19
        }
      ]
    },
    {
      "cell_type": "code",
      "metadata": {
        "id": "F9go-fW96hBW"
      },
      "source": [
        "future = m.make_future_dataframe(periods=12 * 5, freq='M') "
      ],
      "execution_count": null,
      "outputs": []
    },
    {
      "cell_type": "code",
      "metadata": {
        "id": "g8EWnvUy6syH",
        "colab": {
          "base_uri": "https://localhost:8080/",
          "height": 402
        },
        "outputId": "9f963d9c-8c1a-4888-ec41-5c3a849893ac"
      },
      "source": [
        "future"
      ],
      "execution_count": null,
      "outputs": [
        {
          "output_type": "execute_result",
          "data": {
            "text/html": [
              "<div>\n",
              "<style scoped>\n",
              "    .dataframe tbody tr th:only-of-type {\n",
              "        vertical-align: middle;\n",
              "    }\n",
              "\n",
              "    .dataframe tbody tr th {\n",
              "        vertical-align: top;\n",
              "    }\n",
              "\n",
              "    .dataframe thead th {\n",
              "        text-align: right;\n",
              "    }\n",
              "</style>\n",
              "<table border=\"1\" class=\"dataframe\">\n",
              "  <thead>\n",
              "    <tr style=\"text-align: right;\">\n",
              "      <th></th>\n",
              "      <th>ds</th>\n",
              "    </tr>\n",
              "  </thead>\n",
              "  <tbody>\n",
              "    <tr>\n",
              "      <th>0</th>\n",
              "      <td>2010-01-01</td>\n",
              "    </tr>\n",
              "    <tr>\n",
              "      <th>1</th>\n",
              "      <td>2010-01-02</td>\n",
              "    </tr>\n",
              "    <tr>\n",
              "      <th>2</th>\n",
              "      <td>2010-01-03</td>\n",
              "    </tr>\n",
              "    <tr>\n",
              "      <th>3</th>\n",
              "      <td>2010-01-04</td>\n",
              "    </tr>\n",
              "    <tr>\n",
              "      <th>4</th>\n",
              "      <td>2010-01-05</td>\n",
              "    </tr>\n",
              "    <tr>\n",
              "      <th>...</th>\n",
              "      <td>...</td>\n",
              "    </tr>\n",
              "    <tr>\n",
              "      <th>3707</th>\n",
              "      <td>2024-08-31</td>\n",
              "    </tr>\n",
              "    <tr>\n",
              "      <th>3708</th>\n",
              "      <td>2024-09-30</td>\n",
              "    </tr>\n",
              "    <tr>\n",
              "      <th>3709</th>\n",
              "      <td>2024-10-31</td>\n",
              "    </tr>\n",
              "    <tr>\n",
              "      <th>3710</th>\n",
              "      <td>2024-11-30</td>\n",
              "    </tr>\n",
              "    <tr>\n",
              "      <th>3711</th>\n",
              "      <td>2024-12-31</td>\n",
              "    </tr>\n",
              "  </tbody>\n",
              "</table>\n",
              "<p>3712 rows × 1 columns</p>\n",
              "</div>"
            ],
            "text/plain": [
              "             ds\n",
              "0    2010-01-01\n",
              "1    2010-01-02\n",
              "2    2010-01-03\n",
              "3    2010-01-04\n",
              "4    2010-01-05\n",
              "...         ...\n",
              "3707 2024-08-31\n",
              "3708 2024-09-30\n",
              "3709 2024-10-31\n",
              "3710 2024-11-30\n",
              "3711 2024-12-31\n",
              "\n",
              "[3712 rows x 1 columns]"
            ]
          },
          "metadata": {
            "tags": []
          },
          "execution_count": 21
        }
      ]
    },
    {
      "cell_type": "code",
      "metadata": {
        "id": "3EuVmpUh6urq",
        "colab": {
          "base_uri": "https://localhost:8080/",
          "height": 195
        },
        "outputId": "9d1401b4-07f7-4042-c57a-3878e0112f6d"
      },
      "source": [
        "forecast = m.predict(future) \r\n",
        "forecast[['ds', 'yhat', 'yhat_lower', 'yhat_upper', 'trend', 'trend_lower', 'trend_upper']].tail()"
      ],
      "execution_count": null,
      "outputs": [
        {
          "output_type": "execute_result",
          "data": {
            "text/html": [
              "<div>\n",
              "<style scoped>\n",
              "    .dataframe tbody tr th:only-of-type {\n",
              "        vertical-align: middle;\n",
              "    }\n",
              "\n",
              "    .dataframe tbody tr th {\n",
              "        vertical-align: top;\n",
              "    }\n",
              "\n",
              "    .dataframe thead th {\n",
              "        text-align: right;\n",
              "    }\n",
              "</style>\n",
              "<table border=\"1\" class=\"dataframe\">\n",
              "  <thead>\n",
              "    <tr style=\"text-align: right;\">\n",
              "      <th></th>\n",
              "      <th>ds</th>\n",
              "      <th>yhat</th>\n",
              "      <th>yhat_lower</th>\n",
              "      <th>yhat_upper</th>\n",
              "      <th>trend</th>\n",
              "      <th>trend_lower</th>\n",
              "      <th>trend_upper</th>\n",
              "    </tr>\n",
              "  </thead>\n",
              "  <tbody>\n",
              "    <tr>\n",
              "      <th>3707</th>\n",
              "      <td>2024-08-31</td>\n",
              "      <td>13827.125954</td>\n",
              "      <td>7849.651511</td>\n",
              "      <td>19534.325578</td>\n",
              "      <td>10978.894822</td>\n",
              "      <td>10777.944926</td>\n",
              "      <td>11150.852983</td>\n",
              "    </tr>\n",
              "    <tr>\n",
              "      <th>3708</th>\n",
              "      <td>2024-09-30</td>\n",
              "      <td>8833.812124</td>\n",
              "      <td>2780.223829</td>\n",
              "      <td>15164.357267</td>\n",
              "      <td>10984.979491</td>\n",
              "      <td>10778.692338</td>\n",
              "      <td>11160.959272</td>\n",
              "    </tr>\n",
              "    <tr>\n",
              "      <th>3709</th>\n",
              "      <td>2024-10-31</td>\n",
              "      <td>4920.398964</td>\n",
              "      <td>-701.046118</td>\n",
              "      <td>10799.586827</td>\n",
              "      <td>10991.266982</td>\n",
              "      <td>10778.895339</td>\n",
              "      <td>11172.598779</td>\n",
              "    </tr>\n",
              "    <tr>\n",
              "      <th>3710</th>\n",
              "      <td>2024-11-30</td>\n",
              "      <td>3203.474639</td>\n",
              "      <td>-2035.114941</td>\n",
              "      <td>8991.335119</td>\n",
              "      <td>10997.351651</td>\n",
              "      <td>10779.977135</td>\n",
              "      <td>11185.307991</td>\n",
              "    </tr>\n",
              "    <tr>\n",
              "      <th>3711</th>\n",
              "      <td>2024-12-31</td>\n",
              "      <td>2639.156498</td>\n",
              "      <td>-3331.233656</td>\n",
              "      <td>8239.700185</td>\n",
              "      <td>11003.639142</td>\n",
              "      <td>10780.035162</td>\n",
              "      <td>11197.008350</td>\n",
              "    </tr>\n",
              "  </tbody>\n",
              "</table>\n",
              "</div>"
            ],
            "text/plain": [
              "             ds          yhat  ...   trend_lower   trend_upper\n",
              "3707 2024-08-31  13827.125954  ...  10777.944926  11150.852983\n",
              "3708 2024-09-30   8833.812124  ...  10778.692338  11160.959272\n",
              "3709 2024-10-31   4920.398964  ...  10778.895339  11172.598779\n",
              "3710 2024-11-30   3203.474639  ...  10779.977135  11185.307991\n",
              "3711 2024-12-31   2639.156498  ...  10780.035162  11197.008350\n",
              "\n",
              "[5 rows x 7 columns]"
            ]
          },
          "metadata": {
            "tags": []
          },
          "execution_count": 22
        }
      ]
    },
    {
      "cell_type": "markdown",
      "metadata": {
        "id": "l4aeHRk_8fsM"
      },
      "source": [
        "ds=the time series data.\r\n",
        "yhat= the prediction,\r\n",
        "yhat_lower and yhat_upper are the uncertainty levels(it basically means the prediction and actual values can vary within the bounds of the uncertainty levels).\r\n",
        "trend= the long term growth, shrink or stagnancy of the data, trend_lower and trend_upper are the uncertainty levels."
      ]
    },
    {
      "cell_type": "code",
      "metadata": {
        "id": "NzHLy9Hu61hT",
        "colab": {
          "base_uri": "https://localhost:8080/",
          "height": 441
        },
        "outputId": "d395f5f0-5492-4f6c-aa60-3e8eab461ee4"
      },
      "source": [
        "fig1 = m.plot(forecast) "
      ],
      "execution_count": null,
      "outputs": [
        {
          "output_type": "display_data",
          "data": {
            "image/png": "[encoded data removed]",
            "text/plain": [
              "<Figure size 720x432 with 1 Axes>"
            ]
          },
          "metadata": {
            "tags": []
          }
        }
      ]
    },
    {
      "cell_type": "markdown",
      "metadata": {
        "id": "87ETVTUK82CU"
      },
      "source": [
        "The image shows the basic prediction. The light blue is the uncertainty level(yhat_upper and yhat_lower), the dark blue is the prediction(yhat) and the black dots are the original data. We can see that the predicted data is very close to the actual data. In the last five years, there is no “actual” data only predicted."
      ]
    },
    {
      "cell_type": "markdown",
      "metadata": {
        "id": "02EqLy2JTns8"
      },
      "source": [
        "Comparing the means of the actual and forecasted Radiation"
      ]
    },
    {
      "cell_type": "code",
      "metadata": {
        "id": "jvSO9Cjk7QQ6"
      },
      "source": [
        "pred=forecast[['ds','yhat']]"
      ],
      "execution_count": null,
      "outputs": []
    },
    {
      "cell_type": "code",
      "metadata": {
        "id": "O7Vhs6cW8Qkk"
      },
      "source": [
        "real=df['Radiation(KJ/m2)']"
      ],
      "execution_count": null,
      "outputs": []
    },
    {
      "cell_type": "code",
      "metadata": {
        "id": "pCZKgFBAPmlp"
      },
      "source": [
        "final=pd.concat([real,pred],axis=1)"
      ],
      "execution_count": null,
      "outputs": []
    },
    {
      "cell_type": "code",
      "metadata": {
        "id": "6vCP9iDvP8G_",
        "colab": {
          "base_uri": "https://localhost:8080/",
          "height": 195
        },
        "outputId": "4d299920-b5a8-42e5-8b8c-13a377957730"
      },
      "source": [
        "final.head(5)"
      ],
      "execution_count": null,
      "outputs": [
        {
          "output_type": "execute_result",
          "data": {
            "text/html": [
              "<div>\n",
              "<style scoped>\n",
              "    .dataframe tbody tr th:only-of-type {\n",
              "        vertical-align: middle;\n",
              "    }\n",
              "\n",
              "    .dataframe tbody tr th {\n",
              "        vertical-align: top;\n",
              "    }\n",
              "\n",
              "    .dataframe thead th {\n",
              "        text-align: right;\n",
              "    }\n",
              "</style>\n",
              "<table border=\"1\" class=\"dataframe\">\n",
              "  <thead>\n",
              "    <tr style=\"text-align: right;\">\n",
              "      <th></th>\n",
              "      <th>Radiation(KJ/m2)</th>\n",
              "      <th>ds</th>\n",
              "      <th>yhat</th>\n",
              "    </tr>\n",
              "  </thead>\n",
              "  <tbody>\n",
              "    <tr>\n",
              "      <th>0</th>\n",
              "      <td>5425.0</td>\n",
              "      <td>2010-01-01</td>\n",
              "      <td>2081.847248</td>\n",
              "    </tr>\n",
              "    <tr>\n",
              "      <th>1</th>\n",
              "      <td>4761.0</td>\n",
              "      <td>2010-01-02</td>\n",
              "      <td>2532.177514</td>\n",
              "    </tr>\n",
              "    <tr>\n",
              "      <th>2</th>\n",
              "      <td>5416.0</td>\n",
              "      <td>2010-01-03</td>\n",
              "      <td>2691.458256</td>\n",
              "    </tr>\n",
              "    <tr>\n",
              "      <th>3</th>\n",
              "      <td>6301.0</td>\n",
              "      <td>2010-01-04</td>\n",
              "      <td>2287.951614</td>\n",
              "    </tr>\n",
              "    <tr>\n",
              "      <th>4</th>\n",
              "      <td>2318.0</td>\n",
              "      <td>2010-01-05</td>\n",
              "      <td>2386.771390</td>\n",
              "    </tr>\n",
              "  </tbody>\n",
              "</table>\n",
              "</div>"
            ],
            "text/plain": [
              "   Radiation(KJ/m2)         ds         yhat\n",
              "0            5425.0 2010-01-01  2081.847248\n",
              "1            4761.0 2010-01-02  2532.177514\n",
              "2            5416.0 2010-01-03  2691.458256\n",
              "3            6301.0 2010-01-04  2287.951614\n",
              "4            2318.0 2010-01-05  2386.771390"
            ]
          },
          "metadata": {
            "tags": []
          },
          "execution_count": 33
        }
      ]
    },
    {
      "cell_type": "code",
      "metadata": {
        "id": "QQub2dv-QxuD"
      },
      "source": [
        "\r\n",
        "def plot_distribution(inp):\r\n",
        "    plt.figure()\r\n",
        "    ax = sns.distplot(inp)\r\n",
        "    plt.axvline(np.mean(inp), color=\"k\", linestyle=\"dashed\", linewidth=5)\r\n",
        "    _, max_ = plt.ylim()\r\n",
        "    plt.text(\r\n",
        "        inp.mean() + inp.mean() / 10,\r\n",
        "        max_ - max_ / 10,\r\n",
        "        \"Mean: {:.2f}\".format(inp.mean()),\r\n",
        "    )\r\n",
        "    return plt.figure"
      ],
      "execution_count": null,
      "outputs": []
    },
    {
      "cell_type": "code",
      "metadata": {
        "id": "RnkndGyVSD7L"
      },
      "source": [
        "data.dropna(inplace=True)"
      ],
      "execution_count": null,
      "outputs": []
    },
    {
      "cell_type": "code",
      "metadata": {
        "id": "3YxsoMdxSE5H",
        "colab": {
          "base_uri": "https://localhost:8080/",
          "height": 402
        },
        "outputId": "7dcccb30-d13b-4b39-ff17-e7837fd1d303"
      },
      "source": [
        "data"
      ],
      "execution_count": null,
      "outputs": [
        {
          "output_type": "execute_result",
          "data": {
            "text/html": [
              "<div>\n",
              "<style scoped>\n",
              "    .dataframe tbody tr th:only-of-type {\n",
              "        vertical-align: middle;\n",
              "    }\n",
              "\n",
              "    .dataframe tbody tr th {\n",
              "        vertical-align: top;\n",
              "    }\n",
              "\n",
              "    .dataframe thead th {\n",
              "        text-align: right;\n",
              "    }\n",
              "</style>\n",
              "<table border=\"1\" class=\"dataframe\">\n",
              "  <thead>\n",
              "    <tr style=\"text-align: right;\">\n",
              "      <th></th>\n",
              "      <th>Radiation(KJ/m2)</th>\n",
              "      <th>ds</th>\n",
              "      <th>yhat</th>\n",
              "    </tr>\n",
              "  </thead>\n",
              "  <tbody>\n",
              "    <tr>\n",
              "      <th>0</th>\n",
              "      <td>5425.0</td>\n",
              "      <td>2010-01-01</td>\n",
              "      <td>2081.847248</td>\n",
              "    </tr>\n",
              "    <tr>\n",
              "      <th>1</th>\n",
              "      <td>4761.0</td>\n",
              "      <td>2010-01-02</td>\n",
              "      <td>2532.177514</td>\n",
              "    </tr>\n",
              "    <tr>\n",
              "      <th>2</th>\n",
              "      <td>5416.0</td>\n",
              "      <td>2010-01-03</td>\n",
              "      <td>2691.458256</td>\n",
              "    </tr>\n",
              "    <tr>\n",
              "      <th>3</th>\n",
              "      <td>6301.0</td>\n",
              "      <td>2010-01-04</td>\n",
              "      <td>2287.951614</td>\n",
              "    </tr>\n",
              "    <tr>\n",
              "      <th>4</th>\n",
              "      <td>2318.0</td>\n",
              "      <td>2010-01-05</td>\n",
              "      <td>2386.771390</td>\n",
              "    </tr>\n",
              "    <tr>\n",
              "      <th>...</th>\n",
              "      <td>...</td>\n",
              "      <td>...</td>\n",
              "      <td>...</td>\n",
              "    </tr>\n",
              "    <tr>\n",
              "      <th>3647</th>\n",
              "      <td>1348.0</td>\n",
              "      <td>2019-12-27</td>\n",
              "      <td>2046.957520</td>\n",
              "    </tr>\n",
              "    <tr>\n",
              "      <th>3648</th>\n",
              "      <td>1285.0</td>\n",
              "      <td>2019-12-28</td>\n",
              "      <td>2483.978679</td>\n",
              "    </tr>\n",
              "    <tr>\n",
              "      <th>3649</th>\n",
              "      <td>1651.0</td>\n",
              "      <td>2019-12-29</td>\n",
              "      <td>2625.687345</td>\n",
              "    </tr>\n",
              "    <tr>\n",
              "      <th>3650</th>\n",
              "      <td>3075.0</td>\n",
              "      <td>2019-12-30</td>\n",
              "      <td>2200.399342</td>\n",
              "    </tr>\n",
              "    <tr>\n",
              "      <th>3651</th>\n",
              "      <td>689.0</td>\n",
              "      <td>2019-12-31</td>\n",
              "      <td>2273.419959</td>\n",
              "    </tr>\n",
              "  </tbody>\n",
              "</table>\n",
              "<p>3652 rows × 3 columns</p>\n",
              "</div>"
            ],
            "text/plain": [
              "      Radiation(KJ/m2)         ds         yhat\n",
              "0               5425.0 2010-01-01  2081.847248\n",
              "1               4761.0 2010-01-02  2532.177514\n",
              "2               5416.0 2010-01-03  2691.458256\n",
              "3               6301.0 2010-01-04  2287.951614\n",
              "4               2318.0 2010-01-05  2386.771390\n",
              "...                ...        ...          ...\n",
              "3647            1348.0 2019-12-27  2046.957520\n",
              "3648            1285.0 2019-12-28  2483.978679\n",
              "3649            1651.0 2019-12-29  2625.687345\n",
              "3650            3075.0 2019-12-30  2200.399342\n",
              "3651             689.0 2019-12-31  2273.419959\n",
              "\n",
              "[3652 rows x 3 columns]"
            ]
          },
          "metadata": {
            "tags": []
          },
          "execution_count": 45
        }
      ]
    },
    {
      "cell_type": "code",
      "metadata": {
        "id": "LzCzQlYZSOx3"
      },
      "source": [
        "data_real = data['Radiation(KJ/m2)']"
      ],
      "execution_count": null,
      "outputs": []
    },
    {
      "cell_type": "code",
      "metadata": {
        "id": "HXt1173xSe9v",
        "colab": {
          "base_uri": "https://localhost:8080/",
          "height": 394
        },
        "outputId": "84b980c9-974d-412b-b5cb-1a53b12f0280"
      },
      "source": [
        "plot_distribution(data_real)"
      ],
      "execution_count": null,
      "outputs": [
        {
          "output_type": "stream",
          "text": [
            "/usr/local/lib/python3.6/dist-packages/seaborn/distributions.py:2557: FutureWarning:\n",
            "\n",
            "`distplot` is a deprecated function and will be removed in a future version. Please adapt your code to use either `displot` (a figure-level function with similar flexibility) or `histplot` (an axes-level function for histograms).\n",
            "\n"
          ],
          "name": "stderr"
        },
        {
          "output_type": "execute_result",
          "data": {
            "text/plain": [
              "<function matplotlib.pyplot.figure>"
            ]
          },
          "metadata": {
            "tags": []
          },
          "execution_count": 47
        },
        {
          "output_type": "display_data",
          "data": {
            "image/png": "[encoded data removed]",
            "text/plain": [
              "<Figure size 432x288 with 1 Axes>"
            ]
          },
          "metadata": {
            "tags": []
          }
        }
      ]
    },
    {
      "cell_type": "code",
      "metadata": {
        "id": "QuR1e25_SgyN"
      },
      "source": [
        "data_pred=data['yhat']"
      ],
      "execution_count": null,
      "outputs": []
    },
    {
      "cell_type": "code",
      "metadata": {
        "id": "03oDKPTNSonk",
        "colab": {
          "base_uri": "https://localhost:8080/",
          "height": 383
        },
        "outputId": "37778a9b-bc46-4969-a92d-538979c23600"
      },
      "source": [
        "plot_distribution(data_pred)"
      ],
      "execution_count": null,
      "outputs": [
        {
          "output_type": "stream",
          "text": [
            "/usr/local/lib/python3.6/dist-packages/seaborn/distributions.py:2557: FutureWarning:\n",
            "\n",
            "`distplot` is a deprecated function and will be removed in a future version. Please adapt your code to use either `displot` (a figure-level function with similar flexibility) or `histplot` (an axes-level function for histograms).\n",
            "\n"
          ],
          "name": "stderr"
        },
        {
          "output_type": "execute_result",
          "data": {
            "text/plain": [
              "<function matplotlib.pyplot.figure>"
            ]
          },
          "metadata": {
            "tags": []
          },
          "execution_count": 49
        },
        {
          "output_type": "display_data",
          "data": {
            "image/png": "[encoded data removed]",
            "text/plain": [
              "<Figure size 432x288 with 1 Axes>"
            ]
          },
          "metadata": {
            "tags": []
          }
        }
      ]
    },
    {
      "cell_type": "code",
      "metadata": {
        "id": "dnYpRFptSqrA",
        "colab": {
          "base_uri": "https://localhost:8080/",
          "height": 464
        },
        "outputId": "209b6cd5-a421-4761-b2cd-2a57b64c9959"
      },
      "source": [
        "plt.figure()\r\n",
        "ax1 = sns.distplot(data_real)\r\n",
        "ax2 = sns.distplot(data_pred)\r\n",
        "plt.axvline(np.mean(data_real), color='b', linestyle='dashed', linewidth=5)\r\n",
        "plt.axvline(np.mean(data_pred), color='orange', linestyle='dashed', linewidth=5)\r\n",
        "plt.title('Radiation forecasting Distribution Comparison',fontdict = {'fontsize' : 11})"
      ],
      "execution_count": null,
      "outputs": [
        {
          "output_type": "stream",
          "text": [
            "/usr/local/lib/python3.6/dist-packages/seaborn/distributions.py:2557: FutureWarning:\n",
            "\n",
            "`distplot` is a deprecated function and will be removed in a future version. Please adapt your code to use either `displot` (a figure-level function with similar flexibility) or `histplot` (an axes-level function for histograms).\n",
            "\n",
            "/usr/local/lib/python3.6/dist-packages/seaborn/distributions.py:2557: FutureWarning:\n",
            "\n",
            "`distplot` is a deprecated function and will be removed in a future version. Please adapt your code to use either `displot` (a figure-level function with similar flexibility) or `histplot` (an axes-level function for histograms).\n",
            "\n"
          ],
          "name": "stderr"
        },
        {
          "output_type": "execute_result",
          "data": {
            "text/plain": [
              "Text(0.5, 1.0, 'Radiation forecasting Distribution Comparison')"
            ]
          },
          "metadata": {
            "tags": []
          },
          "execution_count": 55
        },
        {
          "output_type": "display_data",
          "data": {
            "image/png": "[encoded data removed]",
            "text/plain": [
              "<Figure size 432x288 with 1 Axes>"
            ]
          },
          "metadata": {
            "tags": []
          }
        }
      ]
    },
    {
      "cell_type": "code",
      "metadata": {
        "id": "zR6vzthZTAMF"
      },
      "source": [
        ""
      ],
      "execution_count": null,
      "outputs": []
    }
  ]
}