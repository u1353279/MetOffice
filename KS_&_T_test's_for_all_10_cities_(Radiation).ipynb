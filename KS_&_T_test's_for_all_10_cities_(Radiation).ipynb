{
  "nbformat": 4,
  "nbformat_minor": 0,
  "metadata": {
    "colab": {
      "name": "KS & T-test's for all 10 cities (Radiation).ipynb",
      "provenance": [],
      "collapsed_sections": [],
      "mount_file_id": "1bsZ6mTwdoYrZ5jDUCwQiqYDznCnfVUnh",
      "authorship_tag": "ABX9TyNsqV6qIU8PS1L5Ft6AeFe9",
      "include_colab_link": true
    },
    "kernelspec": {
      "name": "python3",
      "display_name": "Python 3"
    }
  },
  "cells": [
    {
      "cell_type": "markdown",
      "metadata": {
        "id": "view-in-github",
        "colab_type": "text"
      },
      "source": [
        "<a href=\"https://colab.research.google.com/github/u1353279/MetOffice/blob/main/KS_%26_T_test's_for_all_10_cities_(Radiation).ipynb\" target=\"_parent\"><img src=\"https://colab.research.google.com/assets/colab-badge.svg\" alt=\"Open In Colab\"/></a>"
      ]
    },
    {
      "cell_type": "markdown",
      "metadata": {
        "id": "Dj5z1AXwuzHL"
      },
      "source": [
        "***Statistical Testing for 10 cities***\n",
        "\n",
        "\n",
        "\n",
        "T-test"
      ]
    },
    {
      "cell_type": "markdown",
      "metadata": {
        "id": "hexK1K8-wau-"
      },
      "source": [
        "Import Libraries"
      ]
    },
    {
      "cell_type": "code",
      "metadata": {
        "id": "vNvmvy5immd6"
      },
      "source": [
        "import pandas as pd\n",
        "import numpy as np\n",
        "\n",
        "# stats\n",
        "from statsmodels.tsa.seasonal import seasonal_decompose\n",
        "from statsmodels.graphics.tsaplots import plot_acf, plot_pacf\n",
        "from scipy.stats import ks_2samp,kstest\n",
        "\n",
        "# plotting\n",
        "import seaborn as sns \n",
        "import plotly.express as px\n",
        "import matplotlib.pyplot as plt\n",
        "\n",
        "# settings\n",
        "plt.style.use('seaborn')\n",
        "plt.rcParams[\"figure.figsize\"] = (16, 8)"
      ],
      "execution_count": 39,
      "outputs": []
    },
    {
      "cell_type": "code",
      "metadata": {
        "id": "-mSvcMzmnMCc"
      },
      "source": [
        "import warnings\n",
        "from pylab import rcParams\n",
        "from scipy.stats import f_oneway\n",
        "from scipy.stats import ttest_ind"
      ],
      "execution_count": 2,
      "outputs": []
    },
    {
      "cell_type": "code",
      "metadata": {
        "id": "ozvHLpMPnYpR"
      },
      "source": [
        "%matplotlib inline\n",
        "warnings.filterwarnings(\"ignore\")\n",
        "rcParams['figure.figsize'] = 20,10\n",
        "rcParams['font.size'] = 30\n",
        "sns.set()\n",
        "np.random.seed(8)"
      ],
      "execution_count": 3,
      "outputs": []
    },
    {
      "cell_type": "code",
      "metadata": {
        "id": "XhcD-Kbzna0R"
      },
      "source": [
        "def plot_distribution(inp):\n",
        "    plt.figure()\n",
        "    ax = sns.distplot(inp)\n",
        "    plt.axvline(np.mean(inp), color=\"k\", linestyle=\"dashed\", linewidth=5)\n",
        "    _, max_ = plt.ylim()\n",
        "    plt.text(\n",
        "        inp.mean() + inp.mean() / 10,\n",
        "        max_ - max_ / 10,\n",
        "        \"Mean: {:.2f}\".format(inp.mean()),\n",
        "    )\n",
        "    return plt.figure"
      ],
      "execution_count": 4,
      "outputs": []
    },
    {
      "cell_type": "code",
      "metadata": {
        "id": "J3m2ld5QR3jO"
      },
      "source": [
        "def compare_2_groups(arr_1, arr_2, alpha, sample_size):\r\n",
        "    stat, p = ttest_ind(arr_1, arr_2)\r\n",
        "    print('Statistics=%.3f, p=%.3f' % (stat, p))\r\n",
        "    if p > alpha:\r\n",
        "        print('Same distributions (fail to reject H0)')\r\n",
        "    else:\r\n",
        "        print('Different distributions (reject H0)')"
      ],
      "execution_count": 5,
      "outputs": []
    },
    {
      "cell_type": "markdown",
      "metadata": {
        "id": "OtF64Mz4weAt"
      },
      "source": [
        "Little Rissington"
      ]
    },
    {
      "cell_type": "code",
      "metadata": {
        "id": "8VpFStWsm7he"
      },
      "source": [
        "Little_Rissington=pd.read_excel('/content/drive/MyDrive/PHD/little_rissington.xlsx')\r\n",
        "\r\n",
        "Little_Rissington['Date'] = pd.to_datetime(Little_Rissington['Date'], format='%d/%m/%Y')\r\n",
        "\r\n",
        "Little_Rissington.rename(columns={'Daily Maximum Temperature (0900-0900) (°C)': 'Max Temp',\r\n",
        "                   'Daily Minimum Temperature (0900-0900) (°C)': 'Min Temp',\r\n",
        "                  'Daily Mean Temperature (0900-0900) (°C)': 'Mean Temp',\r\n",
        "          'Daily Total Rainfall (0900-0900)(mm)': 'Rainfall(mm)',\r\n",
        "          'Daily Mean Windspeed (0100-2400) (kn)': 'Windspeed(kn)',\r\n",
        "          'Daily Maximum Gust (0100-2400) (kn)': 'Max Gust(kn)',\r\n",
        "          'Daily Total Global Radiation (KJ/m2)': 'Radiation(KJ/m2)'},\r\n",
        "          inplace=True)\r\n",
        "\r\n",
        "#propogate the last valid observation forward\r\n",
        "Little_Rissington.ffill(inplace=True)\r\n",
        "\r\n",
        "Radiation_Little_Rissington = Little_Rissington['Radiation(KJ/m2)']"
      ],
      "execution_count": 6,
      "outputs": []
    },
    {
      "cell_type": "code",
      "metadata": {
        "id": "dwK7r4O6neP5"
      },
      "source": [
        "Radiation_Little_Rissington = Little_Rissington['Radiation(KJ/m2)']"
      ],
      "execution_count": 8,
      "outputs": []
    },
    {
      "cell_type": "markdown",
      "metadata": {
        "id": "E_zKhPST9GKh"
      },
      "source": [
        "KS ONE sample test"
      ]
    },
    {
      "cell_type": "code",
      "metadata": {
        "colab": {
          "base_uri": "https://localhost:8080/"
        },
        "id": "GQ09GXwt7r4k",
        "outputId": "75c69f39-0ca3-415d-c462-7ecf45bcab78"
      },
      "source": [
        "kstest(Radiation_Little_Rissington,'norm')"
      ],
      "execution_count": 41,
      "outputs": [
        {
          "output_type": "execute_result",
          "data": {
            "text/plain": [
              "KstestResult(statistic=1.0, pvalue=0.0)"
            ]
          },
          "metadata": {
            "tags": []
          },
          "execution_count": 41
        }
      ]
    },
    {
      "cell_type": "markdown",
      "metadata": {
        "id": "A0DNQdDf4ewd"
      },
      "source": [
        "Monks Wood"
      ]
    },
    {
      "cell_type": "code",
      "metadata": {
        "id": "LbStwV6hXwbW"
      },
      "source": [
        "Monks_Wood=pd.read_excel('/content/drive/MyDrive/PHD/Monks Wood.xlsx')\r\n",
        "\r\n",
        "Monks_Wood['Date'] = pd.to_datetime(Monks_Wood['Date'], format='%d/%m/%Y')\r\n",
        "\r\n",
        "Monks_Wood.rename(columns={'Daily Maximum Temperature (0900-0900) (°C)': 'Max Temp',\r\n",
        "                   'Daily Minimum Temperature (0900-0900) (°C)': 'Min Temp',\r\n",
        "                  'Daily Mean Temperature (0900-0900) (°C)': 'Mean Temp',\r\n",
        "          'Daily Total Rainfall (0900-0900)(mm)': 'Rainfall(mm)',\r\n",
        "          'Daily Mean Windspeed (0100-2400) (kn)': 'Windspeed(kn)',\r\n",
        "          'Daily Maximum Gust (0100-2400) (kn)': 'Max Gust(kn)',\r\n",
        "          'Daily Total Global Radiation (KJ/m2)': 'Radiation(KJ/m2)'},\r\n",
        "          inplace=True)\r\n",
        "\r\n",
        "#propogate the last valid observation forward\r\n",
        "Monks_Wood.ffill(inplace=True)\r\n",
        "\r\n",
        "Radiation_Monks_Wood = Monks_Wood['Radiation(KJ/m2)']"
      ],
      "execution_count": 9,
      "outputs": []
    },
    {
      "cell_type": "markdown",
      "metadata": {
        "id": "7gqhG0oB9MoF"
      },
      "source": [
        "KS ONE sample test"
      ]
    },
    {
      "cell_type": "code",
      "metadata": {
        "colab": {
          "base_uri": "https://localhost:8080/"
        },
        "id": "MbGDinfm8AA4",
        "outputId": "954b3fa6-66a4-4eb5-daad-5dd7b7adc12e"
      },
      "source": [
        "kstest(Radiation_Monks_Wood,'norm')"
      ],
      "execution_count": 42,
      "outputs": [
        {
          "output_type": "execute_result",
          "data": {
            "text/plain": [
              "KstestResult(statistic=1.0, pvalue=0.0)"
            ]
          },
          "metadata": {
            "tags": []
          },
          "execution_count": 42
        }
      ]
    },
    {
      "cell_type": "markdown",
      "metadata": {
        "id": "-clkYmi_Q6cO"
      },
      "source": [
        "Bedford"
      ]
    },
    {
      "cell_type": "code",
      "metadata": {
        "id": "fdoubUTVXUuX"
      },
      "source": [
        "Bedford=pd.read_excel('/content/drive/MyDrive/PHD/bedford.xlsx')\r\n",
        "\r\n",
        "Bedford['Date'] = pd.to_datetime(Bedford['Date'], format='%d/%m/%Y')\r\n",
        "\r\n",
        "Bedford.rename(columns={'Daily Maximum Temperature (0900-0900) (°C)': 'Max Temp',\r\n",
        "                   'Daily Minimum Temperature (0900-0900) (°C)': 'Min Temp',\r\n",
        "                  'Daily Mean Temperature (0900-0900) (°C)': 'Mean Temp',\r\n",
        "          'Daily Total Rainfall (0900-0900)(mm)': 'Rainfall(mm)',\r\n",
        "          'Daily Mean Windspeed (0100-2400) (kn)': 'Windspeed(kn)',\r\n",
        "          'Daily Maximum Gust (0100-2400) (kn)': 'Max Gust(kn)',\r\n",
        "          'Daily Total Global Radiation (KJ/m2)': 'Radiation(KJ/m2)'},\r\n",
        "          inplace=True)\r\n",
        "\r\n",
        "#propogate the last valid observation forward\r\n",
        "Bedford.ffill(inplace=True)\r\n",
        "\r\n",
        "Radiation_Bedford = Bedford['Radiation(KJ/m2)']"
      ],
      "execution_count": 10,
      "outputs": []
    },
    {
      "cell_type": "markdown",
      "metadata": {
        "id": "tFFMdUJu9PRm"
      },
      "source": [
        "KS ONE sample test"
      ]
    },
    {
      "cell_type": "code",
      "metadata": {
        "colab": {
          "base_uri": "https://localhost:8080/"
        },
        "id": "05nXgP3v8Ewz",
        "outputId": "28385120-e67c-4b2a-cd4c-270b97edff16"
      },
      "source": [
        "kstest(Radiation_Bedford,'norm')"
      ],
      "execution_count": 43,
      "outputs": [
        {
          "output_type": "execute_result",
          "data": {
            "text/plain": [
              "KstestResult(statistic=1.0, pvalue=0.0)"
            ]
          },
          "metadata": {
            "tags": []
          },
          "execution_count": 43
        }
      ]
    },
    {
      "cell_type": "markdown",
      "metadata": {
        "id": "NbQuMBtkVc5m"
      },
      "source": [
        "Waddington"
      ]
    },
    {
      "cell_type": "code",
      "metadata": {
        "id": "RUB7Ry84VbjU"
      },
      "source": [
        "Waddington=pd.read_excel('/content/drive/MyDrive/PHD/Waddington.xlsx')\r\n",
        "\r\n",
        "Waddington['Date'] = pd.to_datetime(Waddington['Date'], format='%d/%m/%Y')\r\n",
        "\r\n",
        "Waddington.rename(columns={'Daily Maximum Temperature (0900-0900) (°C)': 'Max Temp',\r\n",
        "                   'Daily Minimum Temperature (0900-0900) (°C)': 'Min Temp',\r\n",
        "                  'Daily Mean Temperature (0900-0900) (°C)': 'Mean Temp',\r\n",
        "          'Daily Total Rainfall (0900-0900)(mm)': 'Rainfall(mm)',\r\n",
        "          'Daily Mean Windspeed (0100-2400) (kn)': 'Windspeed(kn)',\r\n",
        "          'Daily Maximum Gust (0100-2400) (kn)': 'Max Gust(kn)',\r\n",
        "          'Daily Total Global Radiation (KJ/m2)': 'Radiation(KJ/m2)'},\r\n",
        "          inplace=True)\r\n",
        "\r\n",
        "#propogate the last valid observation forward\r\n",
        "Waddington.ffill(inplace=True)\r\n",
        "\r\n",
        "Radiation_Waddington = Waddington['Radiation(KJ/m2)']"
      ],
      "execution_count": 11,
      "outputs": []
    },
    {
      "cell_type": "markdown",
      "metadata": {
        "id": "sPSc4e849Q9C"
      },
      "source": [
        "KS ONE sample test"
      ]
    },
    {
      "cell_type": "code",
      "metadata": {
        "colab": {
          "base_uri": "https://localhost:8080/"
        },
        "id": "fRDlS89R8Kna",
        "outputId": "5e940cf4-2e5a-4f33-e25a-a026281c2460"
      },
      "source": [
        "kstest(Radiation_Waddington,'norm')"
      ],
      "execution_count": 44,
      "outputs": [
        {
          "output_type": "execute_result",
          "data": {
            "text/plain": [
              "KstestResult(statistic=1.0, pvalue=0.0)"
            ]
          },
          "metadata": {
            "tags": []
          },
          "execution_count": 44
        }
      ]
    },
    {
      "cell_type": "markdown",
      "metadata": {
        "id": "IjBB7T2TZ8Yb"
      },
      "source": [
        "Wittering"
      ]
    },
    {
      "cell_type": "code",
      "metadata": {
        "id": "o8IgAoObZ-Mj"
      },
      "source": [
        "Wittering=pd.read_excel('/content/drive/MyDrive/PHD/Wittering.xlsx')\r\n",
        "\r\n",
        "Wittering['Date'] = pd.to_datetime(Wittering['Date'], format='%d/%m/%Y')\r\n",
        "\r\n",
        "Wittering.rename(columns={'Daily Maximum Temperature (0900-0900) (°C)': 'Max Temp',\r\n",
        "                   'Daily Minimum Temperature (0900-0900) (°C)': 'Min Temp',\r\n",
        "                  'Daily Mean Temperature (0900-0900) (°C)': 'Mean Temp',\r\n",
        "          'Daily Total Rainfall (0900-0900)(mm)': 'Rainfall(mm)',\r\n",
        "          'Daily Mean Windspeed (0100-2400) (kn)': 'Windspeed(kn)',\r\n",
        "          'Daily Maximum Gust (0100-2400) (kn)': 'Max Gust(kn)',\r\n",
        "          'Daily Total Global Radiation (KJ/m2)': 'Radiation(KJ/m2)'},\r\n",
        "          inplace=True)\r\n",
        "\r\n",
        "#propogate the last valid observation forward\r\n",
        "Wittering.ffill(inplace=True)\r\n",
        "\r\n",
        "Radiation_Wittering = Wittering['Radiation(KJ/m2)']"
      ],
      "execution_count": 45,
      "outputs": []
    },
    {
      "cell_type": "markdown",
      "metadata": {
        "id": "Fh-4WaOO9TMU"
      },
      "source": [
        "KS ONE sample test"
      ]
    },
    {
      "cell_type": "code",
      "metadata": {
        "colab": {
          "base_uri": "https://localhost:8080/"
        },
        "id": "Djg-oOH78QCb",
        "outputId": "2e265b86-3352-42be-a9f6-60af412f97b0"
      },
      "source": [
        "kstest(Radiation_Wittering,'norm')"
      ],
      "execution_count": 46,
      "outputs": [
        {
          "output_type": "execute_result",
          "data": {
            "text/plain": [
              "KstestResult(statistic=1.0, pvalue=0.0)"
            ]
          },
          "metadata": {
            "tags": []
          },
          "execution_count": 46
        }
      ]
    },
    {
      "cell_type": "markdown",
      "metadata": {
        "id": "W6WKRJ4aaqMN"
      },
      "source": [
        "Nottingham"
      ]
    },
    {
      "cell_type": "code",
      "metadata": {
        "id": "3MYRECP4avkA"
      },
      "source": [
        "Nottingham=pd.read_excel('/content/drive/MyDrive/PHD/Nottingham.xlsx')\r\n",
        "\r\n",
        "Nottingham['Date'] = pd.to_datetime(Nottingham['Date'], format='%d/%m/%Y')\r\n",
        "\r\n",
        "Nottingham.rename(columns={'Daily Maximum Temperature (0900-0900) (°C)': 'Max Temp',\r\n",
        "                   'Daily Minimum Temperature (0900-0900) (°C)': 'Min Temp',\r\n",
        "                  'Daily Mean Temperature (0900-0900) (°C)': 'Mean Temp',\r\n",
        "          'Daily Total Rainfall (0900-0900)(mm)': 'Rainfall(mm)',\r\n",
        "          'Daily Mean Windspeed (0100-2400) (kn)': 'Windspeed(kn)',\r\n",
        "          'Daily Maximum Gust (0100-2400) (kn)': 'Max Gust(kn)',\r\n",
        "          'Daily Total Global Radiation (KJ/m2)': 'Radiation(KJ/m2)'},\r\n",
        "          inplace=True)\r\n",
        "\r\n",
        "#propogate the last valid observation forward\r\n",
        "Nottingham.ffill(inplace=True)\r\n",
        "\r\n",
        "Radiation_Nottingham = Nottingham['Radiation(KJ/m2)']"
      ],
      "execution_count": 47,
      "outputs": []
    },
    {
      "cell_type": "markdown",
      "metadata": {
        "id": "E5vd4v8N9VJP"
      },
      "source": [
        "KS ONE sample test"
      ]
    },
    {
      "cell_type": "code",
      "metadata": {
        "colab": {
          "base_uri": "https://localhost:8080/"
        },
        "id": "KetVkPYV8V_W",
        "outputId": "0c669c6c-ccdd-4af4-d44f-bd812eddc995"
      },
      "source": [
        "kstest(Radiation_Nottingham,'norm')"
      ],
      "execution_count": 48,
      "outputs": [
        {
          "output_type": "execute_result",
          "data": {
            "text/plain": [
              "KstestResult(statistic=1.0, pvalue=0.0)"
            ]
          },
          "metadata": {
            "tags": []
          },
          "execution_count": 48
        }
      ]
    },
    {
      "cell_type": "markdown",
      "metadata": {
        "id": "rY66MBEAdkB-"
      },
      "source": [
        "Sutton"
      ]
    },
    {
      "cell_type": "code",
      "metadata": {
        "id": "NcD7zMdodmUG"
      },
      "source": [
        "Sutton=pd.read_excel('/content/drive/MyDrive/PHD/Sutton.xlsx')\r\n",
        "\r\n",
        "Sutton['Date'] = pd.to_datetime(Sutton['Date'], format='%d/%m/%Y')\r\n",
        "\r\n",
        "Sutton.rename(columns={'Daily Maximum Temperature (0900-0900) (°C)': 'Max Temp',\r\n",
        "                   'Daily Minimum Temperature (0900-0900) (°C)': 'Min Temp',\r\n",
        "                  'Daily Mean Temperature (0900-0900) (°C)': 'Mean Temp',\r\n",
        "          'Daily Total Rainfall (0900-0900)(mm)': 'Rainfall(mm)',\r\n",
        "          'Daily Mean Windspeed (0100-2400) (kn)': 'Windspeed(kn)',\r\n",
        "          'Daily Maximum Gust (0100-2400) (kn)': 'Max Gust(kn)',\r\n",
        "          'Daily Total Global Radiation (KJ/m2)': 'Radiation(KJ/m2)'},\r\n",
        "          inplace=True)\r\n",
        "\r\n",
        "#propogate the last valid observation forward\r\n",
        "Sutton.ffill(inplace=True)\r\n",
        "\r\n",
        "Radiation_Sutton = Sutton['Radiation(KJ/m2)']"
      ],
      "execution_count": 49,
      "outputs": []
    },
    {
      "cell_type": "markdown",
      "metadata": {
        "id": "4caKlxhB9XIu"
      },
      "source": [
        "KS ONE sample test"
      ]
    },
    {
      "cell_type": "code",
      "metadata": {
        "colab": {
          "base_uri": "https://localhost:8080/"
        },
        "id": "dxuCNtpy8dSh",
        "outputId": "142c3ff0-014b-446f-ea95-0388a9791cf8"
      },
      "source": [
        "kstest(Radiation_Sutton,'norm')"
      ],
      "execution_count": 50,
      "outputs": [
        {
          "output_type": "execute_result",
          "data": {
            "text/plain": [
              "KstestResult(statistic=1.0, pvalue=0.0)"
            ]
          },
          "metadata": {
            "tags": []
          },
          "execution_count": 50
        }
      ]
    },
    {
      "cell_type": "markdown",
      "metadata": {
        "id": "WVseMAD_e4Ja"
      },
      "source": [
        "Church Lawford"
      ]
    },
    {
      "cell_type": "code",
      "metadata": {
        "id": "JOV7Bm1Be7hk"
      },
      "source": [
        "Church_lawford=pd.read_excel('/content/drive/MyDrive/PHD/Church Lawford.xlsx')\r\n",
        "\r\n",
        "Church_lawford['Date'] = pd.to_datetime(Church_lawford['Date'], format='%d/%m/%Y')\r\n",
        "\r\n",
        "Church_lawford.rename(columns={'Daily Maximum Temperature (0900-0900) (°C)': 'Max Temp',\r\n",
        "                   'Daily Minimum Temperature (0900-0900) (°C)': 'Min Temp',\r\n",
        "                  'Daily Mean Temperature (0900-0900) (°C)': 'Mean Temp',\r\n",
        "          'Daily Total Rainfall (0900-0900)(mm)': 'Rainfall(mm)',\r\n",
        "          'Daily Mean Windspeed (0100-2400) (kn)': 'Windspeed(kn)',\r\n",
        "          'Daily Maximum Gust (0100-2400) (kn)': 'Max Gust(kn)',\r\n",
        "          'Daily Total Global Radiation (KJ/m2)': 'Radiation(KJ/m2)'},\r\n",
        "          inplace=True)\r\n",
        "\r\n",
        "#propogate the last valid observation forward\r\n",
        "Church_lawford.ffill(inplace=True)\r\n",
        "\r\n",
        "Radiation_Church_lawford = Church_lawford['Radiation(KJ/m2)']"
      ],
      "execution_count": 51,
      "outputs": []
    },
    {
      "cell_type": "markdown",
      "metadata": {
        "id": "oY0eubfS9ZKM"
      },
      "source": [
        "KS ONE sample test"
      ]
    },
    {
      "cell_type": "code",
      "metadata": {
        "colab": {
          "base_uri": "https://localhost:8080/"
        },
        "id": "UyTn1NEu8iWi",
        "outputId": "dd0f3f12-7a7c-4b52-d66d-45f4b662fec7"
      },
      "source": [
        "kstest(Radiation_Church_lawford,'norm')"
      ],
      "execution_count": 52,
      "outputs": [
        {
          "output_type": "execute_result",
          "data": {
            "text/plain": [
              "KstestResult(statistic=1.0, pvalue=0.0)"
            ]
          },
          "metadata": {
            "tags": []
          },
          "execution_count": 52
        }
      ]
    },
    {
      "cell_type": "markdown",
      "metadata": {
        "id": "D_WDXuiwgltk"
      },
      "source": [
        "Coventry"
      ]
    },
    {
      "cell_type": "code",
      "metadata": {
        "id": "wAV-WoTxgoQe"
      },
      "source": [
        "Coventry=pd.read_excel('/content/drive/MyDrive/PHD/Coventry.xlsx')\r\n",
        "\r\n",
        "Coventry['Date'] = pd.to_datetime(Coventry['Date'], format='%d/%m/%Y')\r\n",
        "\r\n",
        "Coventry.rename(columns={'Daily Maximum Temperature (0900-0900) (°C)': 'Max Temp',\r\n",
        "                   'Daily Minimum Temperature (0900-0900) (°C)': 'Min Temp',\r\n",
        "                  'Daily Mean Temperature (0900-0900) (°C)': 'Mean Temp',\r\n",
        "          'Daily Total Rainfall (0900-0900)(mm)': 'Rainfall(mm)',\r\n",
        "          'Daily Mean Windspeed (0100-2400) (kn)': 'Windspeed(kn)',\r\n",
        "          'Daily Maximum Gust (0100-2400) (kn)': 'Max Gust(kn)',\r\n",
        "          'Daily Total Global Radiation (KJ/m2)': 'Radiation(KJ/m2)'},\r\n",
        "          inplace=True)\r\n",
        "\r\n",
        "#propogate the last valid observation forward\r\n",
        "Coventry.ffill(inplace=True)\r\n",
        "\r\n",
        "Radiation_Coventry = Coventry['Radiation(KJ/m2)']"
      ],
      "execution_count": 53,
      "outputs": []
    },
    {
      "cell_type": "markdown",
      "metadata": {
        "id": "vif13xO09a3U"
      },
      "source": [
        "KS ONE sample test"
      ]
    },
    {
      "cell_type": "code",
      "metadata": {
        "colab": {
          "base_uri": "https://localhost:8080/"
        },
        "id": "qVjWe-9l8o3i",
        "outputId": "c4bd81f4-093f-4827-b1fd-8679d17ba382"
      },
      "source": [
        "kstest(Radiation_Coventry,'norm')"
      ],
      "execution_count": 54,
      "outputs": [
        {
          "output_type": "execute_result",
          "data": {
            "text/plain": [
              "KstestResult(statistic=1.0, pvalue=0.0)"
            ]
          },
          "metadata": {
            "tags": []
          },
          "execution_count": 54
        }
      ]
    },
    {
      "cell_type": "markdown",
      "metadata": {
        "id": "fJKRLAZXhWhy"
      },
      "source": [
        "Coleshill"
      ]
    },
    {
      "cell_type": "code",
      "metadata": {
        "id": "kocUxeF_hZRc"
      },
      "source": [
        "Coleshill=pd.read_excel('/content/drive/MyDrive/PHD/Coleshill.xlsx')\r\n",
        "\r\n",
        "Coleshill['Date'] = pd.to_datetime(Coleshill['Date'], format='%d/%m/%Y')\r\n",
        "\r\n",
        "Coleshill.rename(columns={'Daily Maximum Temperature (0900-0900) (°C)': 'Max Temp',\r\n",
        "                   'Daily Minimum Temperature (0900-0900) (°C)': 'Min Temp',\r\n",
        "                  'Daily Mean Temperature (0900-0900) (°C)': 'Mean Temp',\r\n",
        "          'Daily Total Rainfall (0900-0900)(mm)': 'Rainfall(mm)',\r\n",
        "          'Daily Mean Windspeed (0100-2400) (kn)': 'Windspeed(kn)',\r\n",
        "          'Daily Maximum Gust (0100-2400) (kn)': 'Max Gust(kn)',\r\n",
        "          'Daily Total Global Radiation (KJ/m2)': 'Radiation(KJ/m2)'},\r\n",
        "          inplace=True)\r\n",
        "\r\n",
        "#propogate the last valid observation forward\r\n",
        "Coleshill.ffill(inplace=True)\r\n",
        "\r\n",
        "Radiation_Coleshill = Coleshill['Radiation(KJ/m2)']"
      ],
      "execution_count": 55,
      "outputs": []
    },
    {
      "cell_type": "markdown",
      "metadata": {
        "id": "Bbakab5U9dH9"
      },
      "source": [
        "KS ONE sample test"
      ]
    },
    {
      "cell_type": "code",
      "metadata": {
        "colab": {
          "base_uri": "https://localhost:8080/"
        },
        "id": "Sb03L7Q78u6Y",
        "outputId": "ccdffd90-c4ea-47eb-ed56-d432436e10b9"
      },
      "source": [
        "kstest(Radiation_Coleshill,'norm')"
      ],
      "execution_count": 56,
      "outputs": [
        {
          "output_type": "execute_result",
          "data": {
            "text/plain": [
              "KstestResult(statistic=1.0, pvalue=0.0)"
            ]
          },
          "metadata": {
            "tags": []
          },
          "execution_count": 56
        }
      ]
    },
    {
      "cell_type": "markdown",
      "metadata": {
        "id": "PK90jnA_TPLw"
      },
      "source": [
        "Little Rissington vs Monks Wood (72.71 Miles, East)"
      ]
    },
    {
      "cell_type": "markdown",
      "metadata": {
        "id": "sagPt4LY5TK9"
      },
      "source": [
        "T-test"
      ]
    },
    {
      "cell_type": "code",
      "metadata": {
        "colab": {
          "base_uri": "https://localhost:8080/"
        },
        "id": "yLjHW4TESJRT",
        "outputId": "b6a77fbe-761e-4199-95eb-9081c12d5494"
      },
      "source": [
        "sample_size = 2000\r\n",
        "Little_Rissington_sampled = np.random.choice(Radiation_Little_Rissington, sample_size)\r\n",
        "Monks_Wood_sampled = np.random.choice(Radiation_Monks_Wood, sample_size)\r\n",
        "compare_2_groups(Little_Rissington_sampled, Monks_Wood_sampled, 0.05, sample_size)"
      ],
      "execution_count": 18,
      "outputs": [
        {
          "output_type": "stream",
          "text": [
            "Statistics=1.113, p=0.266\n",
            "Same distributions (fail to reject H0)\n"
          ],
          "name": "stdout"
        }
      ]
    },
    {
      "cell_type": "markdown",
      "metadata": {
        "id": "q9z0kh0s5XBH"
      },
      "source": [
        "KS Test"
      ]
    },
    {
      "cell_type": "code",
      "metadata": {
        "colab": {
          "base_uri": "https://localhost:8080/"
        },
        "id": "QuEDV7nZ4-9u",
        "outputId": "b68afaf9-6988-4b4d-d897-30dc7a269c65"
      },
      "source": [
        "ks_2samp(Little_Rissington_sampled,Monks_Wood_sampled)"
      ],
      "execution_count": 19,
      "outputs": [
        {
          "output_type": "execute_result",
          "data": {
            "text/plain": [
              "Ks_2sampResult(statistic=0.0355, pvalue=0.1607718238327084)"
            ]
          },
          "metadata": {
            "tags": []
          },
          "execution_count": 19
        }
      ]
    },
    {
      "cell_type": "markdown",
      "metadata": {
        "id": "9bzChtid5dU3"
      },
      "source": [
        "Sampled data shown to be normally distributed"
      ]
    },
    {
      "cell_type": "markdown",
      "metadata": {
        "id": "4k-TWGY_TZAH"
      },
      "source": [
        "Little Rissington vs Bedford (56.28 Miles, East)"
      ]
    },
    {
      "cell_type": "code",
      "metadata": {
        "colab": {
          "base_uri": "https://localhost:8080/"
        },
        "id": "2BosgbUWSpVj",
        "outputId": "74de6b5b-8cae-49f7-9b7d-323f7dceb500"
      },
      "source": [
        "sample_size = 2000\r\n",
        "Little_Rissington_sampled = np.random.choice(Radiation_Little_Rissington, sample_size)\r\n",
        "Bedford_sampled = np.random.choice(Radiation_Bedford, sample_size)\r\n",
        "compare_2_groups(Little_Rissington_sampled, Bedford_sampled, 0.05, sample_size)"
      ],
      "execution_count": 20,
      "outputs": [
        {
          "output_type": "stream",
          "text": [
            "Statistics=-0.039, p=0.969\n",
            "Same distributions (fail to reject H0)\n"
          ],
          "name": "stdout"
        }
      ]
    },
    {
      "cell_type": "code",
      "metadata": {
        "colab": {
          "base_uri": "https://localhost:8080/"
        },
        "id": "-aT7c7HC6NE-",
        "outputId": "d9e9e5a5-5514-4fc9-fb05-ac37f6060d58"
      },
      "source": [
        "ks_2samp(Little_Rissington_sampled,Bedford_sampled)"
      ],
      "execution_count": 24,
      "outputs": [
        {
          "output_type": "execute_result",
          "data": {
            "text/plain": [
              "Ks_2sampResult(statistic=0.0305, pvalue=0.3100757299327459)"
            ]
          },
          "metadata": {
            "tags": []
          },
          "execution_count": 24
        }
      ]
    },
    {
      "cell_type": "markdown",
      "metadata": {
        "id": "XnPsvHvLW0t-"
      },
      "source": [
        "Little Rissigton vs Waddington (102.04 Miles, North-East)"
      ]
    },
    {
      "cell_type": "code",
      "metadata": {
        "colab": {
          "base_uri": "https://localhost:8080/"
        },
        "id": "D1lMhux6Tnsh",
        "outputId": "0e7287d1-9f3c-410b-e649-b21195326f74"
      },
      "source": [
        "sample_size = 2000\r\n",
        "Little_Rissington_sampled = np.random.choice(Radiation_Little_Rissington, sample_size)\r\n",
        "Waddington_sampled = np.random.choice(Radiation_Waddington, sample_size)\r\n",
        "compare_2_groups(Little_Rissington_sampled, Waddington_sampled, 0.05, sample_size)"
      ],
      "execution_count": 25,
      "outputs": [
        {
          "output_type": "stream",
          "text": [
            "Statistics=0.896, p=0.370\n",
            "Same distributions (fail to reject H0)\n"
          ],
          "name": "stdout"
        }
      ]
    },
    {
      "cell_type": "code",
      "metadata": {
        "colab": {
          "base_uri": "https://localhost:8080/"
        },
        "id": "eqIImav56pNb",
        "outputId": "41cc1ce5-14ee-4b5e-f1a9-c65971eedb7d"
      },
      "source": [
        "ks_2samp(Little_Rissington_sampled,Waddington_sampled)"
      ],
      "execution_count": 26,
      "outputs": [
        {
          "output_type": "execute_result",
          "data": {
            "text/plain": [
              "Ks_2sampResult(statistic=0.0315, pvalue=0.274233348575873)"
            ]
          },
          "metadata": {
            "tags": []
          },
          "execution_count": 26
        }
      ]
    },
    {
      "cell_type": "markdown",
      "metadata": {
        "id": "8qH5UiUVaVaa"
      },
      "source": [
        "Little Rissigton vs Wittering (74.31 Miles, East)"
      ]
    },
    {
      "cell_type": "code",
      "metadata": {
        "colab": {
          "base_uri": "https://localhost:8080/"
        },
        "id": "6xkL5PfoXCc-",
        "outputId": "03f7205a-5efd-4133-8cd9-82ed56cee71e"
      },
      "source": [
        "sample_size = 2000\r\n",
        "Little_Rissington_sampled = np.random.choice(Radiation_Little_Rissington, sample_size)\r\n",
        "Wittering_sampled = np.random.choice(Radiation_Wittering, sample_size)\r\n",
        "compare_2_groups(Little_Rissington_sampled, Wittering_sampled, 0.05, sample_size)"
      ],
      "execution_count": 27,
      "outputs": [
        {
          "output_type": "stream",
          "text": [
            "Statistics=-0.936, p=0.349\n",
            "Same distributions (fail to reject H0)\n"
          ],
          "name": "stdout"
        }
      ]
    },
    {
      "cell_type": "code",
      "metadata": {
        "colab": {
          "base_uri": "https://localhost:8080/"
        },
        "id": "3vSiUOM36vlm",
        "outputId": "11cbb6e5-87d4-47f8-d3e9-e2841ffd95f8"
      },
      "source": [
        "ks_2samp(Little_Rissington_sampled,Wittering_sampled)"
      ],
      "execution_count": 28,
      "outputs": [
        {
          "output_type": "execute_result",
          "data": {
            "text/plain": [
              "Ks_2sampResult(statistic=0.0315, pvalue=0.274233348575873)"
            ]
          },
          "metadata": {
            "tags": []
          },
          "execution_count": 28
        }
      ]
    },
    {
      "cell_type": "markdown",
      "metadata": {
        "id": "2YDu-9dKbYT2"
      },
      "source": [
        "Little Rissington vs Nottingham (78.40 Miles, North)"
      ]
    },
    {
      "cell_type": "code",
      "metadata": {
        "colab": {
          "base_uri": "https://localhost:8080/"
        },
        "id": "8cAfgAdNagkO",
        "outputId": "b15584bb-ad55-4a90-c614-eb094d558805"
      },
      "source": [
        "sample_size = 2000\r\n",
        "Little_Rissington_sampled = np.random.choice(Radiation_Little_Rissington, sample_size)\r\n",
        "Nottingham_sampled = np.random.choice(Radiation_Nottingham, sample_size)\r\n",
        "compare_2_groups(Little_Rissington_sampled, Nottingham_sampled, 0.05, sample_size)"
      ],
      "execution_count": 29,
      "outputs": [
        {
          "output_type": "stream",
          "text": [
            "Statistics=1.799, p=0.072\n",
            "Same distributions (fail to reject H0)\n"
          ],
          "name": "stdout"
        }
      ]
    },
    {
      "cell_type": "code",
      "metadata": {
        "colab": {
          "base_uri": "https://localhost:8080/"
        },
        "id": "t3fH_Ezh60nB",
        "outputId": "0598efdf-3bc6-4f96-919c-8215b9e584fc"
      },
      "source": [
        "ks_2samp(Little_Rissington_sampled,Nottingham_sampled)"
      ],
      "execution_count": 30,
      "outputs": [
        {
          "output_type": "execute_result",
          "data": {
            "text/plain": [
              "Ks_2sampResult(statistic=0.054, pvalue=0.005856338964770555)"
            ]
          },
          "metadata": {
            "tags": []
          },
          "execution_count": 30
        }
      ]
    },
    {
      "cell_type": "markdown",
      "metadata": {
        "id": "M2Ye-kbjd7HN"
      },
      "source": [
        "Little Rissington vs Sutton (74.68 Miles, North)"
      ]
    },
    {
      "cell_type": "code",
      "metadata": {
        "colab": {
          "base_uri": "https://localhost:8080/"
        },
        "id": "kALD7B_vbk9Q",
        "outputId": "d92e9e41-7ca7-4ac3-fe54-6794b3ed510a"
      },
      "source": [
        "sample_size = 2000\r\n",
        "Little_Rissington_sampled = np.random.choice(Radiation_Little_Rissington, sample_size)\r\n",
        "Sutton_sampled = np.random.choice(Radiation_Sutton, sample_size)\r\n",
        "compare_2_groups(Little_Rissington_sampled, Sutton_sampled, 0.05, sample_size)"
      ],
      "execution_count": 31,
      "outputs": [
        {
          "output_type": "stream",
          "text": [
            "Statistics=1.911, p=0.056\n",
            "Same distributions (fail to reject H0)\n"
          ],
          "name": "stdout"
        }
      ]
    },
    {
      "cell_type": "code",
      "metadata": {
        "colab": {
          "base_uri": "https://localhost:8080/"
        },
        "id": "Ih-o0_GA66nE",
        "outputId": "98278aa6-7428-4041-9ac1-0e97a5949e52"
      },
      "source": [
        "ks_2samp(Little_Rissington_sampled,Sutton_sampled)"
      ],
      "execution_count": 32,
      "outputs": [
        {
          "output_type": "execute_result",
          "data": {
            "text/plain": [
              "Ks_2sampResult(statistic=0.044, pvalue=0.041621298682206154)"
            ]
          },
          "metadata": {
            "tags": []
          },
          "execution_count": 32
        }
      ]
    },
    {
      "cell_type": "markdown",
      "metadata": {
        "id": "xs0H4iyAfgrh"
      },
      "source": [
        "Little Rissington vs Church_lawford (38.58 Miles, North)"
      ]
    },
    {
      "cell_type": "code",
      "metadata": {
        "colab": {
          "base_uri": "https://localhost:8080/"
        },
        "id": "0FRxPSXMeEmd",
        "outputId": "7f27328b-24a2-4e41-91c9-8848387ddfdd"
      },
      "source": [
        "sample_size = 2000\r\n",
        "Little_Rissington_sampled = np.random.choice(Radiation_Little_Rissington, sample_size)\r\n",
        "Church_lawford_sampled = np.random.choice(Radiation_Church_lawford, sample_size)\r\n",
        "compare_2_groups(Little_Rissington_sampled, Church_lawford_sampled, 0.05, sample_size)"
      ],
      "execution_count": 33,
      "outputs": [
        {
          "output_type": "stream",
          "text": [
            "Statistics=0.783, p=0.434\n",
            "Same distributions (fail to reject H0)\n"
          ],
          "name": "stdout"
        }
      ]
    },
    {
      "cell_type": "code",
      "metadata": {
        "colab": {
          "base_uri": "https://localhost:8080/"
        },
        "id": "Oh63FgRm7Dlz",
        "outputId": "0154fadf-3d1e-4976-d161-e133eac67a44"
      },
      "source": [
        "ks_2samp(Little_Rissington_sampled,Church_lawford_sampled)"
      ],
      "execution_count": 34,
      "outputs": [
        {
          "output_type": "execute_result",
          "data": {
            "text/plain": [
              "Ks_2sampResult(statistic=0.024, pvalue=0.6122516588087653)"
            ]
          },
          "metadata": {
            "tags": []
          },
          "execution_count": 34
        }
      ]
    },
    {
      "cell_type": "markdown",
      "metadata": {
        "id": "YLESDls0g7YP"
      },
      "source": [
        "Little Rissington vs Coventry (37.77 Miles, North)"
      ]
    },
    {
      "cell_type": "code",
      "metadata": {
        "colab": {
          "base_uri": "https://localhost:8080/"
        },
        "id": "FSzC6_Dmftzp",
        "outputId": "fa4ae3e6-e210-481b-af6d-e0a4f1c7cd30"
      },
      "source": [
        "sample_size = 2000\r\n",
        "Little_Rissington_sampled = np.random.choice(Radiation_Little_Rissington, sample_size)\r\n",
        "Coventry_sampled = np.random.choice(Radiation_Coventry, sample_size)\r\n",
        "compare_2_groups(Little_Rissington_sampled, Coventry_sampled, 0.05, sample_size)"
      ],
      "execution_count": 35,
      "outputs": [
        {
          "output_type": "stream",
          "text": [
            "Statistics=1.618, p=0.106\n",
            "Same distributions (fail to reject H0)\n"
          ],
          "name": "stdout"
        }
      ]
    },
    {
      "cell_type": "code",
      "metadata": {
        "colab": {
          "base_uri": "https://localhost:8080/"
        },
        "id": "BKlJYVzE7H5q",
        "outputId": "41440603-e402-4065-c44f-bca319988baa"
      },
      "source": [
        "ks_2samp(Little_Rissington_sampled,Coventry_sampled)"
      ],
      "execution_count": 36,
      "outputs": [
        {
          "output_type": "execute_result",
          "data": {
            "text/plain": [
              "Ks_2sampResult(statistic=0.0385, pvalue=0.10315937616578036)"
            ]
          },
          "metadata": {
            "tags": []
          },
          "execution_count": 36
        }
      ]
    },
    {
      "cell_type": "markdown",
      "metadata": {
        "id": "ZbVTMgwXhrPj"
      },
      "source": [
        "Little Rissington vs Coleshill (42.24 Miles, North)"
      ]
    },
    {
      "cell_type": "code",
      "metadata": {
        "colab": {
          "base_uri": "https://localhost:8080/"
        },
        "id": "ag6OS25shENt",
        "outputId": "e0c00c5f-185d-4041-f21a-c3dabfac6e9a"
      },
      "source": [
        "sample_size = 2000\r\n",
        "Little_Rissington_sampled = np.random.choice(Radiation_Little_Rissington, sample_size)\r\n",
        "Coleshill_sampled = np.random.choice(Radiation_Coleshill, sample_size)\r\n",
        "compare_2_groups(Little_Rissington_sampled, Coleshill_sampled, 0.05, sample_size)"
      ],
      "execution_count": 37,
      "outputs": [
        {
          "output_type": "stream",
          "text": [
            "Statistics=1.140, p=0.254\n",
            "Same distributions (fail to reject H0)\n"
          ],
          "name": "stdout"
        }
      ]
    },
    {
      "cell_type": "code",
      "metadata": {
        "colab": {
          "base_uri": "https://localhost:8080/"
        },
        "id": "nR0rfFda7MS6",
        "outputId": "959e43fe-7d0a-4f03-e8d1-f2f13da796c2"
      },
      "source": [
        "ks_2samp(Little_Rissington_sampled,Coleshill_sampled)"
      ],
      "execution_count": 38,
      "outputs": [
        {
          "output_type": "execute_result",
          "data": {
            "text/plain": [
              "Ks_2sampResult(statistic=0.028, pvalue=0.4132324404768168)"
            ]
          },
          "metadata": {
            "tags": []
          },
          "execution_count": 38
        }
      ]
    },
    {
      "cell_type": "code",
      "metadata": {
        "id": "vMKKbfpKhz5B"
      },
      "source": [
        ""
      ],
      "execution_count": null,
      "outputs": []
    }
  ]
}